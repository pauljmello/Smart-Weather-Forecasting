{
 "cells": [
  {
   "cell_type": "code",
   "execution_count": 1,
   "id": "1e220543",
   "metadata": {},
   "outputs": [],
   "source": [
    "import datetime\n",
    "import random\n",
    "import warnings\n",
    "import time\n",
    "import pickle\n",
    "\n",
    "import numpy as np\n",
    "import pandas as pd\n",
    "import sklearn as sk\n",
    "import matplotlib.pyplot as plt\n",
    "\n",
    "import torch\n",
    "import torch.nn as nn\n",
    "import torch.optim as optim\n",
    "from torch.utils.data import Dataset, DataLoader, random_split\n",
    "\n",
    "from sklearn.linear_model import Ridge, LinearRegression\n",
    "from sklearn.metrics import mean_squared_error\n",
    "from sklearn.ensemble import RandomForestRegressor\n",
    "from sklearn.model_selection import train_test_split\n",
    "from sklearn.decomposition import PCA\n",
    "from sklearn.preprocessing import StandardScaler, LabelEncoder, PolynomialFeatures\n",
    "from xgboost import XGBRegressor\n",
    "\n",
    "\n",
    "from IPython.core.interactiveshell import InteractiveShell\n",
    "InteractiveShell.ast_node_interactivity = 'all'\n",
    "plt.rcParams[\"figure.figsize\"] = (15,9)\n",
    "device = torch.device(\"cuda\" if torch.cuda.is_available() else \"cpu\")\n",
    "\n",
    "# All Warnings are non-issues, but create significant clutter during printing\n",
    "# So we choose to ignore them.\n",
    "warnings.filterwarnings('ignore') \n",
    "\n",
    "# For reproduceability \n",
    "seed = 0\n",
    "\n",
    "# It takes ~20 mins to run on a high-end system\n",
    "start_time = time.time()"
   ]
  },
  {
   "cell_type": "markdown",
   "id": "955037aa",
   "metadata": {},
   "source": [
    "# Load Dataframes\n",
    "\n",
    "Data is collected from https://open-meteo.com/ \n",
    "We collect Forecast and Archive Data. \n",
    "    - Forecast refers to the predicted values over the following week.\n",
    "    - Archive refers to the historic data values."
   ]
  },
  {
   "cell_type": "code",
   "execution_count": 2,
   "id": "804d33d7",
   "metadata": {},
   "outputs": [],
   "source": [
    "DailyCity_Forecast = pd.read_csv(\"Weather Data/Daly City/forecast.csv\", skiprows=3)\n",
    "Fremont_Forecast = pd.read_csv(\"Weather Data/Fremont/forecast.csv\", skiprows=3)\n",
    "Hayward_Forecast = pd.read_csv(\"Weather Data/Hayward/forecast.csv\", skiprows=3)\n",
    "MountainView_Forecast = pd.read_csv(\"Weather Data/Mountain View/forecast.csv\", skiprows=3)\n",
    "Oakland_Forecast = pd.read_csv(\"Weather Data/Oakland/forecast.csv\", skiprows=3)\n",
    "PaloAlto_Forecast = pd.read_csv(\"Weather Data/Palo Alto/forecast.csv\", skiprows=3)\n",
    "RedwoodCity_Forecast = pd.read_csv(\"Weather Data/Redwood City/forecast.csv\", skiprows=3)\n",
    "SanFrancisco_Forecast = pd.read_csv(\"Weather Data/San Francisco/forecast.csv\", skiprows=3)\n",
    "SanJose_Forecast = pd.read_csv(\"Weather Data/San Jose/forecast.csv\", skiprows=3)\n",
    "SanMateo_Forecast = pd.read_csv(\"Weather Data/San Mateo/forecast.csv\", skiprows=3)"
   ]
  },
  {
   "cell_type": "code",
   "execution_count": 3,
   "id": "629e2169",
   "metadata": {},
   "outputs": [],
   "source": [
    "DailyCity_Archive = pd.read_csv(\"Weather Data/Daly City/archive.csv\", skiprows=3)\n",
    "Fremont_Archive = pd.read_csv(\"Weather Data/Fremont/archive.csv\", skiprows=3)\n",
    "Hayward_Archive = pd.read_csv(\"Weather Data/Hayward/archive.csv\", skiprows=3)\n",
    "MountainView_Archive = pd.read_csv(\"Weather Data/Mountain View/archive.csv\", skiprows=3)\n",
    "Oakland_Archive = pd.read_csv(\"Weather Data/Oakland/archive.csv\", skiprows=3)\n",
    "PaloAlto_Archive = pd.read_csv(\"Weather Data/Palo Alto/archive.csv\", skiprows=3)\n",
    "RedwoodCity_Archive = pd.read_csv(\"Weather Data/Redwood City/archive.csv\", skiprows=3)\n",
    "SanFrancisco_Archive = pd.read_csv(\"Weather Data/San Francisco/archive.csv\", skiprows=3)\n",
    "SanJose_Archive = pd.read_csv(\"Weather Data/San Jose/archive.csv\", skiprows=3)\n",
    "SanMateo_Archive = pd.read_csv(\"Weather Data/San Mateo/archive.csv\", skiprows=3)"
   ]
  },
  {
   "cell_type": "code",
   "execution_count": 4,
   "id": "bc3c5f05",
   "metadata": {},
   "outputs": [],
   "source": [
    "def fixData_addCity(df, n, city):\n",
    "    new_df = df.copy()\n",
    "    for index, row in df.iloc[1:].iterrows():\n",
    "        if row.isna().all(): \n",
    "            break\n",
    "        try:\n",
    "            time = int(row[0])\n",
    "            new_time = datetime.datetime.fromtimestamp(time)\n",
    "        except ValueError:\n",
    "            continue\n",
    "        new_df.at[index, 0] = new_time\n",
    "    new_df = new_df.iloc[:-n]\n",
    "    new_df[\"city\"] = city\n",
    "    return new_df"
   ]
  },
  {
   "cell_type": "markdown",
   "id": "65992ecb",
   "metadata": {},
   "source": [
    "# Preprocessing Dataframes\n",
    "\n",
    "Fix data frames to include city identifiers\n",
    "\n",
    "Here \"bottom_cut\" cuts off the bottom N lines that are artifacts of the data collected from our source"
   ]
  },
  {
   "cell_type": "code",
   "execution_count": 5,
   "id": "c4680588",
   "metadata": {},
   "outputs": [],
   "source": [
    "bottom_cut = 17\n",
    "\n",
    "DailyCity_Forecast = fixData_addCity(DailyCity_Forecast, bottom_cut, \"Daily City\")\n",
    "Fremont_Forecast = fixData_addCity(Fremont_Forecast, bottom_cut, \"Fremont\")\n",
    "Hayward_Forecast = fixData_addCity(Hayward_Forecast, bottom_cut, \"Hayward\")\n",
    "MountainView_Forecast = fixData_addCity(MountainView_Forecast, bottom_cut, \"Mountain View\")\n",
    "Oakland_Forecast = fixData_addCity(Oakland_Forecast, bottom_cut, \"Oakland\")\n",
    "PaloAlto_Forecast = fixData_addCity(PaloAlto_Forecast, bottom_cut, \"Palo Alto\")\n",
    "RedwoodCity_Forecast = fixData_addCity(RedwoodCity_Forecast, bottom_cut, \"Redwood City\")\n",
    "SanFrancisco_Forecast = fixData_addCity(SanFrancisco_Forecast, bottom_cut, \"San Francisco\")\n",
    "SanJose_Forecast = fixData_addCity(SanJose_Forecast, bottom_cut, \"San Jose\")\n",
    "SanMateo_Forecast = fixData_addCity(SanMateo_Forecast, bottom_cut, \"San Mateo\")"
   ]
  },
  {
   "cell_type": "code",
   "execution_count": 6,
   "id": "0ad71956",
   "metadata": {},
   "outputs": [],
   "source": [
    "bottom_cut = 2558\n",
    "\n",
    "DailyCity_Archive = fixData_addCity(DailyCity_Archive, bottom_cut, \"Daily City\")\n",
    "Fremont_Archive = fixData_addCity(Fremont_Archive, bottom_cut, \"Fremont\")\n",
    "Hayward_Archive = fixData_addCity(Hayward_Archive, bottom_cut, \"Hayward\")\n",
    "MountainView_Archive = fixData_addCity(MountainView_Archive, bottom_cut, \"Mountain View\")\n",
    "Oakland_Archive = fixData_addCity(Oakland_Archive, bottom_cut, \"Oakland\")\n",
    "PaloAlto_Archive = fixData_addCity(PaloAlto_Archive, bottom_cut, \"Palo Alto\")\n",
    "RedwoodCity_Archive = fixData_addCity(RedwoodCity_Archive, bottom_cut, \"Redwood City\")\n",
    "SanFrancisco_Archive = fixData_addCity(SanFrancisco_Archive, bottom_cut, \"San Francisco\")\n",
    "SanJose_Archive = fixData_addCity(SanJose_Archive, bottom_cut, \"San Jose\")\n",
    "SanMateo_Archive = fixData_addCity(SanMateo_Archive, bottom_cut, \"San Mateo\")"
   ]
  },
  {
   "cell_type": "code",
   "execution_count": 7,
   "id": "d07f9684",
   "metadata": {},
   "outputs": [],
   "source": [
    "ForecastDF = [SanJose_Forecast, DailyCity_Forecast, Fremont_Forecast, Hayward_Forecast, MountainView_Forecast, Oakland_Forecast, PaloAlto_Forecast, RedwoodCity_Forecast, SanFrancisco_Forecast, SanMateo_Forecast]\n",
    "ArchiveDF = [SanJose_Archive, DailyCity_Archive, Fremont_Archive, Hayward_Archive, MountainView_Archive, Oakland_Archive, PaloAlto_Archive, RedwoodCity_Archive, SanFrancisco_Archive, SanMateo_Archive]"
   ]
  },
  {
   "cell_type": "markdown",
   "id": "decbccde",
   "metadata": {},
   "source": [
    "### Necessary Feature Removal for Training\n",
    "\n",
    "Given that two dataframes types are collected \"forecast\" and \"archive\" data. We want to remove any data from the Forecast\n",
    "which is not present in the archive, and vice-versa. This will ensure that regression models are capable of prediction\n",
    "as column data will be equivalent in nature."
   ]
  },
  {
   "cell_type": "code",
   "execution_count": 8,
   "id": "93aa4ae5",
   "metadata": {},
   "outputs": [],
   "source": [
    "def fixForecast(dfs):\n",
    "    newList = []\n",
    "    remove = [\n",
    "        \"precipitation_probability (%)\",\n",
    "        \"showers (inch)\",\n",
    "        \"snow_depth (ft)\",\n",
    "        \"temperature_80m (°F)\",\n",
    "        \"visibility (ft)\",\n",
    "        \"winddirection_80m (°)\",\n",
    "        \"windspeed_80m (mp/h)\",\n",
    "        \"snowfall (inch)\"\n",
    "    ]\n",
    "    for df in dfs:\n",
    "        new_df = df.drop(columns=[col for col in remove if col in df.columns])\n",
    "        newList.append(new_df)\n",
    "    return newList"
   ]
  },
  {
   "cell_type": "code",
   "execution_count": 9,
   "id": "cbc2697e",
   "metadata": {},
   "outputs": [],
   "source": [
    "def fixArchive(dfs):\n",
    "    newList = []\n",
    "    remove = [\n",
    "        \"pressure_msl (hPa)\",\n",
    "        \"surface_pressure (hPa)\",\n",
    "        \"snowfall (inch)\"\n",
    "    ]\n",
    "    for df in dfs:\n",
    "        new_df = df.drop(columns=[col for col in remove if col in df.columns])\n",
    "        newList.append(new_df)\n",
    "    return newList"
   ]
  },
  {
   "cell_type": "code",
   "execution_count": 10,
   "id": "0f56e697",
   "metadata": {},
   "outputs": [],
   "source": [
    "ForecastDF = fixForecast(ForecastDF)\n",
    "ArchiveDF = fixArchive(ArchiveDF)"
   ]
  },
  {
   "cell_type": "markdown",
   "id": "65fa3865",
   "metadata": {},
   "source": [
    "Concatonate the Dataframes into a single dataframe for simplier training"
   ]
  },
  {
   "cell_type": "code",
   "execution_count": 11,
   "id": "a4bf11c8",
   "metadata": {},
   "outputs": [],
   "source": [
    "def concatDF(dataList):\n",
    "    df = pd.concat(dataList)\n",
    "    df.reset_index(drop=True, inplace=True)\n",
    "    df[\"time\"] = df[\"time\"].apply(lambda x: int(x.timestamp()) if isinstance(x, datetime.datetime) else x)\n",
    "    df.sort_values(\"time\", inplace=True)\n",
    "    df.reset_index(drop=True, inplace=True)\n",
    "    df[\"time\"] = df[\"time\"].apply(lambda x: datetime.fromtimestamp(x) if isinstance(x, int) else x)\n",
    "    return df"
   ]
  },
  {
   "cell_type": "code",
   "execution_count": 12,
   "id": "c8f284ba",
   "metadata": {},
   "outputs": [],
   "source": [
    "TotalForecastDF = concatDF(ForecastDF)\n",
    "TotalArchiveDF = concatDF(ArchiveDF)"
   ]
  },
  {
   "cell_type": "code",
   "execution_count": 13,
   "id": "4efa82d9",
   "metadata": {},
   "outputs": [
    {
     "data": {
      "text/html": [
       "<div>\n",
       "<style scoped>\n",
       "    .dataframe tbody tr th:only-of-type {\n",
       "        vertical-align: middle;\n",
       "    }\n",
       "\n",
       "    .dataframe tbody tr th {\n",
       "        vertical-align: top;\n",
       "    }\n",
       "\n",
       "    .dataframe thead th {\n",
       "        text-align: right;\n",
       "    }\n",
       "</style>\n",
       "<table border=\"1\" class=\"dataframe\">\n",
       "  <thead>\n",
       "    <tr style=\"text-align: right;\">\n",
       "      <th></th>\n",
       "      <th>time</th>\n",
       "      <th>temperature_2m (°F)</th>\n",
       "      <th>relativehumidity_2m (%)</th>\n",
       "      <th>precipitation (inch)</th>\n",
       "      <th>rain (inch)</th>\n",
       "      <th>cloudcover (%)</th>\n",
       "      <th>windspeed_10m (mp/h)</th>\n",
       "      <th>winddirection_10m (°)</th>\n",
       "      <th>0</th>\n",
       "      <th>city</th>\n",
       "    </tr>\n",
       "  </thead>\n",
       "  <tbody>\n",
       "    <tr>\n",
       "      <th>0</th>\n",
       "      <td>1681974000</td>\n",
       "      <td>49.2</td>\n",
       "      <td>71</td>\n",
       "      <td>0.000</td>\n",
       "      <td>0.000</td>\n",
       "      <td>0</td>\n",
       "      <td>2.2</td>\n",
       "      <td>217.0</td>\n",
       "      <td>NaT</td>\n",
       "      <td>San Jose</td>\n",
       "    </tr>\n",
       "    <tr>\n",
       "      <th>1</th>\n",
       "      <td>1681974000</td>\n",
       "      <td>44.8</td>\n",
       "      <td>78</td>\n",
       "      <td>0.000</td>\n",
       "      <td>0.000</td>\n",
       "      <td>0</td>\n",
       "      <td>2.6</td>\n",
       "      <td>290.0</td>\n",
       "      <td>NaT</td>\n",
       "      <td>Daily City</td>\n",
       "    </tr>\n",
       "    <tr>\n",
       "      <th>2</th>\n",
       "      <td>1681974000</td>\n",
       "      <td>46.8</td>\n",
       "      <td>76</td>\n",
       "      <td>0.000</td>\n",
       "      <td>0.000</td>\n",
       "      <td>0</td>\n",
       "      <td>4.8</td>\n",
       "      <td>283.0</td>\n",
       "      <td>NaT</td>\n",
       "      <td>San Mateo</td>\n",
       "    </tr>\n",
       "    <tr>\n",
       "      <th>3</th>\n",
       "      <td>1681974000</td>\n",
       "      <td>47.3</td>\n",
       "      <td>81</td>\n",
       "      <td>0.000</td>\n",
       "      <td>0.000</td>\n",
       "      <td>0</td>\n",
       "      <td>0.8</td>\n",
       "      <td>56.0</td>\n",
       "      <td>NaT</td>\n",
       "      <td>Hayward</td>\n",
       "    </tr>\n",
       "    <tr>\n",
       "      <th>4</th>\n",
       "      <td>1681974000</td>\n",
       "      <td>47.8</td>\n",
       "      <td>65</td>\n",
       "      <td>0.000</td>\n",
       "      <td>0.000</td>\n",
       "      <td>0</td>\n",
       "      <td>6.1</td>\n",
       "      <td>126.0</td>\n",
       "      <td>NaT</td>\n",
       "      <td>Mountain View</td>\n",
       "    </tr>\n",
       "  </tbody>\n",
       "</table>\n",
       "</div>"
      ],
      "text/plain": [
       "         time temperature_2m (°F) relativehumidity_2m (%)  \\\n",
       "0  1681974000                49.2                      71   \n",
       "1  1681974000                44.8                      78   \n",
       "2  1681974000                46.8                      76   \n",
       "3  1681974000                47.3                      81   \n",
       "4  1681974000                47.8                      65   \n",
       "\n",
       "  precipitation (inch) rain (inch) cloudcover (%)  windspeed_10m (mp/h)  \\\n",
       "0                0.000       0.000              0                   2.2   \n",
       "1                0.000       0.000              0                   2.6   \n",
       "2                0.000       0.000              0                   4.8   \n",
       "3                0.000       0.000              0                   0.8   \n",
       "4                0.000       0.000              0                   6.1   \n",
       "\n",
       "   winddirection_10m (°)   0           city  \n",
       "0                  217.0 NaT       San Jose  \n",
       "1                  290.0 NaT     Daily City  \n",
       "2                  283.0 NaT      San Mateo  \n",
       "3                   56.0 NaT        Hayward  \n",
       "4                  126.0 NaT  Mountain View  "
      ]
     },
     "execution_count": 13,
     "metadata": {},
     "output_type": "execute_result"
    },
    {
     "data": {
      "text/html": [
       "<div>\n",
       "<style scoped>\n",
       "    .dataframe tbody tr th:only-of-type {\n",
       "        vertical-align: middle;\n",
       "    }\n",
       "\n",
       "    .dataframe tbody tr th {\n",
       "        vertical-align: top;\n",
       "    }\n",
       "\n",
       "    .dataframe thead th {\n",
       "        text-align: right;\n",
       "    }\n",
       "</style>\n",
       "<table border=\"1\" class=\"dataframe\">\n",
       "  <thead>\n",
       "    <tr style=\"text-align: right;\">\n",
       "      <th></th>\n",
       "      <th>time</th>\n",
       "      <th>temperature_2m (°F)</th>\n",
       "      <th>relativehumidity_2m (%)</th>\n",
       "      <th>precipitation (inch)</th>\n",
       "      <th>rain (inch)</th>\n",
       "      <th>cloudcover (%)</th>\n",
       "      <th>windspeed_10m (mp/h)</th>\n",
       "      <th>winddirection_10m (°)</th>\n",
       "      <th>0</th>\n",
       "      <th>city</th>\n",
       "    </tr>\n",
       "  </thead>\n",
       "  <tbody>\n",
       "    <tr>\n",
       "      <th>0</th>\n",
       "      <td>1451631600</td>\n",
       "      <td>40.8</td>\n",
       "      <td>85</td>\n",
       "      <td>0.000</td>\n",
       "      <td>0.000</td>\n",
       "      <td>2</td>\n",
       "      <td>6.3</td>\n",
       "      <td>42</td>\n",
       "      <td>NaT</td>\n",
       "      <td>San Jose</td>\n",
       "    </tr>\n",
       "    <tr>\n",
       "      <th>1</th>\n",
       "      <td>1451631600</td>\n",
       "      <td>42.0</td>\n",
       "      <td>87</td>\n",
       "      <td>0.000</td>\n",
       "      <td>0.000</td>\n",
       "      <td>1</td>\n",
       "      <td>4.1</td>\n",
       "      <td>45</td>\n",
       "      <td>NaT</td>\n",
       "      <td>Fremont</td>\n",
       "    </tr>\n",
       "    <tr>\n",
       "      <th>2</th>\n",
       "      <td>1451631600</td>\n",
       "      <td>41.7</td>\n",
       "      <td>75</td>\n",
       "      <td>0.000</td>\n",
       "      <td>0.000</td>\n",
       "      <td>4</td>\n",
       "      <td>3.7</td>\n",
       "      <td>322</td>\n",
       "      <td>NaT</td>\n",
       "      <td>Hayward</td>\n",
       "    </tr>\n",
       "    <tr>\n",
       "      <th>3</th>\n",
       "      <td>1451631600</td>\n",
       "      <td>41.3</td>\n",
       "      <td>90</td>\n",
       "      <td>0.000</td>\n",
       "      <td>0.000</td>\n",
       "      <td>1</td>\n",
       "      <td>4.1</td>\n",
       "      <td>45</td>\n",
       "      <td>NaT</td>\n",
       "      <td>Mountain View</td>\n",
       "    </tr>\n",
       "    <tr>\n",
       "      <th>4</th>\n",
       "      <td>1451631600</td>\n",
       "      <td>40.8</td>\n",
       "      <td>82</td>\n",
       "      <td>0.000</td>\n",
       "      <td>0.000</td>\n",
       "      <td>1</td>\n",
       "      <td>3.5</td>\n",
       "      <td>45</td>\n",
       "      <td>NaT</td>\n",
       "      <td>San Mateo</td>\n",
       "    </tr>\n",
       "  </tbody>\n",
       "</table>\n",
       "</div>"
      ],
      "text/plain": [
       "         time temperature_2m (°F) relativehumidity_2m (%)  \\\n",
       "0  1451631600                40.8                      85   \n",
       "1  1451631600                42.0                      87   \n",
       "2  1451631600                41.7                      75   \n",
       "3  1451631600                41.3                      90   \n",
       "4  1451631600                40.8                      82   \n",
       "\n",
       "  precipitation (inch) rain (inch) cloudcover (%) windspeed_10m (mp/h)  \\\n",
       "0                0.000       0.000              2                  6.3   \n",
       "1                0.000       0.000              1                  4.1   \n",
       "2                0.000       0.000              4                  3.7   \n",
       "3                0.000       0.000              1                  4.1   \n",
       "4                0.000       0.000              1                  3.5   \n",
       "\n",
       "  winddirection_10m (°)   0           city  \n",
       "0                    42 NaT       San Jose  \n",
       "1                    45 NaT        Fremont  \n",
       "2                   322 NaT        Hayward  \n",
       "3                    45 NaT  Mountain View  \n",
       "4                    45 NaT      San Mateo  "
      ]
     },
     "execution_count": 13,
     "metadata": {},
     "output_type": "execute_result"
    }
   ],
   "source": [
    "TotalForecastDF.head(5)\n",
    "TotalArchiveDF.head(5)"
   ]
  },
  {
   "cell_type": "code",
   "execution_count": 14,
   "id": "b87e6200",
   "metadata": {},
   "outputs": [],
   "source": [
    "def preprocessingDF(df, normalize_cols=[], onehot_cols=[]):\n",
    "    def fixInternaldf(soleDF):\n",
    "        soleDF = soleDF.dropna()\n",
    "        new_df = soleDF.copy()\n",
    "        for col in normalize_cols:\n",
    "            new_df[col] = (new_df[col] - new_df[col].mean()) / new_df[col].std()\n",
    "        new_df = pd.get_dummies(new_df, columns=onehot_cols)\n",
    "        new_df['City_ID'] = new_df['city'].astype('category').cat.codes\n",
    "        new_df = new_df.drop('city', axis=1)\n",
    "        \n",
    "        if '0' in new_df.columns:\n",
    "            new_df = new_df.drop('0', axis=1)\n",
    "        \n",
    "        return new_df\n",
    "\n",
    "    if isinstance(df, list):\n",
    "        return [fixInternaldf(soleDF) for soleDF in df]\n",
    "    else:\n",
    "        return fixInternaldf(df)"
   ]
  },
  {
   "cell_type": "code",
   "execution_count": 15,
   "id": "2cb4ff90",
   "metadata": {},
   "outputs": [],
   "source": [
    "processedForecast = preprocessingDF(TotalForecastDF)\n",
    "processedArchive = preprocessingDF(TotalArchiveDF)\n",
    "\n",
    "processedForecast = processedForecast.drop([0], axis=1)\n",
    "processedArchive = processedArchive.drop([0], axis=1)"
   ]
  },
  {
   "cell_type": "code",
   "execution_count": 16,
   "id": "64c95a7f",
   "metadata": {},
   "outputs": [
    {
     "data": {
      "text/html": [
       "<div>\n",
       "<style scoped>\n",
       "    .dataframe tbody tr th:only-of-type {\n",
       "        vertical-align: middle;\n",
       "    }\n",
       "\n",
       "    .dataframe tbody tr th {\n",
       "        vertical-align: top;\n",
       "    }\n",
       "\n",
       "    .dataframe thead th {\n",
       "        text-align: right;\n",
       "    }\n",
       "</style>\n",
       "<table border=\"1\" class=\"dataframe\">\n",
       "  <thead>\n",
       "    <tr style=\"text-align: right;\">\n",
       "      <th></th>\n",
       "      <th>time</th>\n",
       "      <th>temperature_2m (°F)</th>\n",
       "      <th>relativehumidity_2m (%)</th>\n",
       "      <th>precipitation (inch)</th>\n",
       "      <th>rain (inch)</th>\n",
       "      <th>cloudcover (%)</th>\n",
       "      <th>windspeed_10m (mp/h)</th>\n",
       "      <th>winddirection_10m (°)</th>\n",
       "      <th>City_ID</th>\n",
       "    </tr>\n",
       "  </thead>\n",
       "  <tbody>\n",
       "    <tr>\n",
       "      <th>10</th>\n",
       "      <td>1681977600</td>\n",
       "      <td>46.5</td>\n",
       "      <td>72</td>\n",
       "      <td>0.000</td>\n",
       "      <td>0.000</td>\n",
       "      <td>0</td>\n",
       "      <td>3.6</td>\n",
       "      <td>277.0</td>\n",
       "      <td>7</td>\n",
       "    </tr>\n",
       "    <tr>\n",
       "      <th>11</th>\n",
       "      <td>1681977600</td>\n",
       "      <td>46.6</td>\n",
       "      <td>73</td>\n",
       "      <td>0.000</td>\n",
       "      <td>0.000</td>\n",
       "      <td>0</td>\n",
       "      <td>1.7</td>\n",
       "      <td>23.0</td>\n",
       "      <td>4</td>\n",
       "    </tr>\n",
       "    <tr>\n",
       "      <th>12</th>\n",
       "      <td>1681977600</td>\n",
       "      <td>46.8</td>\n",
       "      <td>63</td>\n",
       "      <td>0.000</td>\n",
       "      <td>0.000</td>\n",
       "      <td>0</td>\n",
       "      <td>1.8</td>\n",
       "      <td>256.0</td>\n",
       "      <td>6</td>\n",
       "    </tr>\n",
       "    <tr>\n",
       "      <th>13</th>\n",
       "      <td>1681977600</td>\n",
       "      <td>44.2</td>\n",
       "      <td>75</td>\n",
       "      <td>0.000</td>\n",
       "      <td>0.000</td>\n",
       "      <td>0</td>\n",
       "      <td>0.7</td>\n",
       "      <td>270.0</td>\n",
       "      <td>0</td>\n",
       "    </tr>\n",
       "    <tr>\n",
       "      <th>14</th>\n",
       "      <td>1681977600</td>\n",
       "      <td>46.7</td>\n",
       "      <td>77</td>\n",
       "      <td>0.000</td>\n",
       "      <td>0.000</td>\n",
       "      <td>2</td>\n",
       "      <td>4.9</td>\n",
       "      <td>120.0</td>\n",
       "      <td>2</td>\n",
       "    </tr>\n",
       "  </tbody>\n",
       "</table>\n",
       "</div>"
      ],
      "text/plain": [
       "          time temperature_2m (°F) relativehumidity_2m (%)  \\\n",
       "10  1681977600                46.5                      72   \n",
       "11  1681977600                46.6                      73   \n",
       "12  1681977600                46.8                      63   \n",
       "13  1681977600                44.2                      75   \n",
       "14  1681977600                46.7                      77   \n",
       "\n",
       "   precipitation (inch) rain (inch) cloudcover (%)  windspeed_10m (mp/h)  \\\n",
       "10                0.000       0.000              0                   3.6   \n",
       "11                0.000       0.000              0                   1.7   \n",
       "12                0.000       0.000              0                   1.8   \n",
       "13                0.000       0.000              0                   0.7   \n",
       "14                0.000       0.000              2                   4.9   \n",
       "\n",
       "    winddirection_10m (°)  City_ID  \n",
       "10                  277.0        7  \n",
       "11                   23.0        4  \n",
       "12                  256.0        6  \n",
       "13                  270.0        0  \n",
       "14                  120.0        2  "
      ]
     },
     "execution_count": 16,
     "metadata": {},
     "output_type": "execute_result"
    },
    {
     "data": {
      "text/html": [
       "<div>\n",
       "<style scoped>\n",
       "    .dataframe tbody tr th:only-of-type {\n",
       "        vertical-align: middle;\n",
       "    }\n",
       "\n",
       "    .dataframe tbody tr th {\n",
       "        vertical-align: top;\n",
       "    }\n",
       "\n",
       "    .dataframe thead th {\n",
       "        text-align: right;\n",
       "    }\n",
       "</style>\n",
       "<table border=\"1\" class=\"dataframe\">\n",
       "  <thead>\n",
       "    <tr style=\"text-align: right;\">\n",
       "      <th></th>\n",
       "      <th>time</th>\n",
       "      <th>temperature_2m (°F)</th>\n",
       "      <th>relativehumidity_2m (%)</th>\n",
       "      <th>precipitation (inch)</th>\n",
       "      <th>rain (inch)</th>\n",
       "      <th>cloudcover (%)</th>\n",
       "      <th>windspeed_10m (mp/h)</th>\n",
       "      <th>winddirection_10m (°)</th>\n",
       "      <th>City_ID</th>\n",
       "    </tr>\n",
       "  </thead>\n",
       "  <tbody>\n",
       "    <tr>\n",
       "      <th>10</th>\n",
       "      <td>1451635200</td>\n",
       "      <td>40.8</td>\n",
       "      <td>78</td>\n",
       "      <td>0.000</td>\n",
       "      <td>0.000</td>\n",
       "      <td>0</td>\n",
       "      <td>4.6</td>\n",
       "      <td>43</td>\n",
       "      <td>9</td>\n",
       "    </tr>\n",
       "    <tr>\n",
       "      <th>11</th>\n",
       "      <td>1451635200</td>\n",
       "      <td>40.7</td>\n",
       "      <td>90</td>\n",
       "      <td>0.000</td>\n",
       "      <td>0.000</td>\n",
       "      <td>0</td>\n",
       "      <td>4.6</td>\n",
       "      <td>43</td>\n",
       "      <td>5</td>\n",
       "    </tr>\n",
       "    <tr>\n",
       "      <th>12</th>\n",
       "      <td>1451635200</td>\n",
       "      <td>40.5</td>\n",
       "      <td>90</td>\n",
       "      <td>0.000</td>\n",
       "      <td>0.000</td>\n",
       "      <td>0</td>\n",
       "      <td>6.2</td>\n",
       "      <td>41</td>\n",
       "      <td>3</td>\n",
       "    </tr>\n",
       "    <tr>\n",
       "      <th>13</th>\n",
       "      <td>1451635200</td>\n",
       "      <td>42.8</td>\n",
       "      <td>85</td>\n",
       "      <td>0.000</td>\n",
       "      <td>0.000</td>\n",
       "      <td>0</td>\n",
       "      <td>4.6</td>\n",
       "      <td>43</td>\n",
       "      <td>6</td>\n",
       "    </tr>\n",
       "    <tr>\n",
       "      <th>14</th>\n",
       "      <td>1451635200</td>\n",
       "      <td>36.9</td>\n",
       "      <td>76</td>\n",
       "      <td>0.000</td>\n",
       "      <td>0.000</td>\n",
       "      <td>0</td>\n",
       "      <td>6.2</td>\n",
       "      <td>41</td>\n",
       "      <td>4</td>\n",
       "    </tr>\n",
       "  </tbody>\n",
       "</table>\n",
       "</div>"
      ],
      "text/plain": [
       "          time temperature_2m (°F) relativehumidity_2m (%)  \\\n",
       "10  1451635200                40.8                      78   \n",
       "11  1451635200                40.7                      90   \n",
       "12  1451635200                40.5                      90   \n",
       "13  1451635200                42.8                      85   \n",
       "14  1451635200                36.9                      76   \n",
       "\n",
       "   precipitation (inch) rain (inch) cloudcover (%) windspeed_10m (mp/h)  \\\n",
       "10                0.000       0.000              0                  4.6   \n",
       "11                0.000       0.000              0                  4.6   \n",
       "12                0.000       0.000              0                  6.2   \n",
       "13                0.000       0.000              0                  4.6   \n",
       "14                0.000       0.000              0                  6.2   \n",
       "\n",
       "   winddirection_10m (°)  City_ID  \n",
       "10                    43        9  \n",
       "11                    43        5  \n",
       "12                    41        3  \n",
       "13                    43        6  \n",
       "14                    41        4  "
      ]
     },
     "execution_count": 16,
     "metadata": {},
     "output_type": "execute_result"
    }
   ],
   "source": [
    "processedForecast.head(5)\n",
    "processedArchive.head(5)"
   ]
  },
  {
   "cell_type": "markdown",
   "id": "c34de86a",
   "metadata": {},
   "source": [
    "# Perform Principle Component Analysis on Features\n",
    "\n",
    "Identify the useful features from the collected data."
   ]
  },
  {
   "cell_type": "code",
   "execution_count": 17,
   "id": "2082e96a",
   "metadata": {},
   "outputs": [],
   "source": [
    "def pcaAnalysis(df, target, num, path):\n",
    "    features = df.drop(columns=[target])\n",
    "    scale = StandardScaler()\n",
    "    featuresNew = scale.fit_transform(features)\n",
    "\n",
    "    pca = PCA(n_components=num)\n",
    "    pca.fit(featuresNew)\n",
    "    abss = np.abs(pca.components_.T)\n",
    "    \n",
    "    newDf = pd.DataFrame(abss, columns=[f\"PC{i+1}\" for i in range(num)], index=features.columns)\n",
    "    sumSquareDF = (newDf ** 2).sum(axis=1)\n",
    "    sortedDF = sumSquareDF.sort_values(ascending=False)\n",
    "\n",
    "    ax = sortedDF.plot.bar(rot=90, figsize=(15, 8))\n",
    "    ax.set_ylabel(\"PCA Contribution\")\n",
    "    ax.set_ylabel(\"Feature Columns\")\n",
    "    ax.set_title(\"Feature Contributions to Principal Components\")\n",
    "    plt.tight_layout()\n",
    "    plt.savefig(path)\n",
    "    plt.show()"
   ]
  },
  {
   "cell_type": "code",
   "execution_count": 18,
   "id": "a6fc82f6",
   "metadata": {},
   "outputs": [
    {
     "data": {
      "image/png": "[encoded data removed]",
      "text/plain": [
       "<Figure size 1500x800 with 1 Axes>"
      ]
     },
     "metadata": {},
     "output_type": "display_data"
    }
   ],
   "source": [
    "pcaAnalysis(processedForecast, \"temperature_2m (°F)\", 5, \"Images/ForecastPCA.png\")"
   ]
  },
  {
   "cell_type": "code",
   "execution_count": 19,
   "id": "cf85dcfc",
   "metadata": {},
   "outputs": [
    {
     "data": {
      "image/png": "[encoded data removed]",
      "text/plain": [
       "<Figure size 1500x800 with 1 Axes>"
      ]
     },
     "metadata": {},
     "output_type": "display_data"
    }
   ],
   "source": [
    "pcaAnalysis(processedArchive, \"temperature_2m (°F)\", 5, \"Images/ArchivePCA.png\")"
   ]
  },
  {
   "cell_type": "markdown",
   "id": "f5e3b430",
   "metadata": {},
   "source": [
    "As we can see CITY ID is crucial to feature contributions as well as time. These are both apparent, whats interesting \n",
    "is that windspeed is an indirect indicator of the tempurature as it contributes to city wide \"cooling off\"."
   ]
  },
  {
   "cell_type": "markdown",
   "id": "781fb508",
   "metadata": {},
   "source": [
    "# Training Regression Models\n",
    "\n",
    "Preliminary testing to demonstrate effectiveness of the methods proposed."
   ]
  },
  {
   "cell_type": "code",
   "execution_count": 20,
   "id": "0dab7298",
   "metadata": {},
   "outputs": [],
   "source": [
    "def splitDF(df, target_col, num):    \n",
    "    X = df.drop(target_col, axis=1)\n",
    "    y = df[target_col]\n",
    "    X_train, X_test, y_train, y_test = train_test_split(X, y, test_size=num, random_state=seed)\n",
    "    return X_train, X_test, y_train, y_test"
   ]
  },
  {
   "cell_type": "code",
   "execution_count": 21,
   "id": "de39677b",
   "metadata": {},
   "outputs": [],
   "source": [
    "FX_train, FX_test, Fy_train, Fy_test = splitDF(processedForecast, \"temperature_2m (°F)\", .3)\n",
    "AX_train, AX_test, Ay_train, Ay_test = splitDF(processedArchive, \"temperature_2m (°F)\", .3)"
   ]
  },
  {
   "cell_type": "code",
   "execution_count": 22,
   "id": "0618ed02",
   "metadata": {},
   "outputs": [],
   "source": [
    "FrfReg = RandomForestRegressor(random_state=seed, n_jobs=-1).fit(FX_train, Fy_train)\n",
    "ArfReg = RandomForestRegressor(random_state=seed, n_jobs=-1).fit(AX_train, Ay_train)"
   ]
  },
  {
   "cell_type": "code",
   "execution_count": 23,
   "id": "103b0d28",
   "metadata": {},
   "outputs": [],
   "source": [
    "FrFRidge = Ridge(alpha=0.1).fit(FX_train, Fy_train)\n",
    "ArFRidge = Ridge(alpha=0.1).fit(AX_train, Ay_train)"
   ]
  },
  {
   "cell_type": "code",
   "execution_count": 24,
   "id": "4c8d2830",
   "metadata": {},
   "outputs": [],
   "source": [
    "def getRMSE(model, X, y):\n",
    "    pred = model.predict(X)\n",
    "    mse = mean_squared_error(y, pred)\n",
    "    rmse = np.sqrt(mse)\n",
    "    return rmse"
   ]
  },
  {
   "cell_type": "code",
   "execution_count": 25,
   "id": "98dd7cd5",
   "metadata": {},
   "outputs": [
    {
     "name": "stdout",
     "output_type": "stream",
     "text": [
      "Forecast Prediction Regression: \n",
      "RMSE: 1.048904\n",
      "\n",
      "Forecast Prediction Ridge: \n",
      "RMSE: 3.608618\n"
     ]
    }
   ],
   "source": [
    "print(\"Forecast Prediction Regression: \")\n",
    "rmse = getRMSE(FrfReg, FX_test, Fy_test)\n",
    "print(\"RMSE:\", round(rmse, 6))\n",
    "\n",
    "print(\"\\nForecast Prediction Ridge: \")\n",
    "rmse = getRMSE(FrFRidge, FX_test, Fy_test)\n",
    "print(\"RMSE:\", round(rmse, 6))"
   ]
  },
  {
   "cell_type": "code",
   "execution_count": 26,
   "id": "d759355a",
   "metadata": {},
   "outputs": [
    {
     "name": "stdout",
     "output_type": "stream",
     "text": [
      "Archive Prediction Regression: \n",
      "2.0053843369094317\n",
      "\n",
      "Archive Prediction Ridge: \n",
      "6.585495142558209\n"
     ]
    }
   ],
   "source": [
    "print(\"Archive Prediction Regression: \")\n",
    "rmse = getRMSE(ArfReg, AX_test, Ay_test)\n",
    "print(rmse)\n",
    "\n",
    "print(\"\\nArchive Prediction Ridge: \")\n",
    "rmse = getRMSE(ArFRidge, AX_test, Ay_test)\n",
    "print(rmse)"
   ]
  },
  {
   "cell_type": "code",
   "execution_count": 27,
   "id": "e5429d32",
   "metadata": {},
   "outputs": [
    {
     "name": "stdout",
     "output_type": "stream",
     "text": [
      "Archive Prediction of Forecast using Regression: \n",
      "5.030519935685047\n",
      "\n",
      "Archive Prediction of Forecast using Ridge: \n",
      "6.9318737680796\n"
     ]
    }
   ],
   "source": [
    "print(\"Archive Prediction of Forecast using Regression: \")\n",
    "rmse = getRMSE(ArfReg, FX_test, Fy_test)\n",
    "print(rmse)\n",
    "\n",
    "print(\"\\nArchive Prediction of Forecast using Ridge: \")\n",
    "rmse = getRMSE(ArFRidge, FX_test, Fy_test)\n",
    "print(rmse)"
   ]
  },
  {
   "cell_type": "markdown",
   "id": "f5d98121",
   "metadata": {},
   "source": [
    "We can see that forecast and archive models are accurate in predicting their unseen test data.\n",
    "With the Archive models being relatively accurate in predicting the unseen forecasting data over the next week."
   ]
  },
  {
   "cell_type": "markdown",
   "id": "ee897264",
   "metadata": {},
   "source": [
    "## Build Testing Methodologies for different Regression Methods"
   ]
  },
  {
   "cell_type": "code",
   "execution_count": 28,
   "id": "5f6107f8",
   "metadata": {},
   "outputs": [],
   "source": [
    "def predictPolyRegML(df, target, remove, num, degree):\n",
    "    rmse = []\n",
    "    for i in range(num):\n",
    "        randomCitys = random.sample(range(0, 10), remove)\n",
    "        newDF = df[~df['City_ID'].isin(randomCitys)]\n",
    "        X_train, X_test, y_train, y_test = splitDF(newDF, target, .3)\n",
    "        poly_transform = PolynomialFeatures(degree=degree)\n",
    "        X_train_poly = poly_transform.fit_transform(X_train)\n",
    "        X_test_poly = poly_transform.transform(X_test)\n",
    "        poly_regressor = LinearRegression(n_jobs=-1).fit(X_train_poly, y_train)\n",
    "        rmse.append(getRMSE(poly_regressor, X_test_poly, y_test))\n",
    "    return poly_regressor, rmse"
   ]
  },
  {
   "cell_type": "code",
   "execution_count": 29,
   "id": "361d3651",
   "metadata": {},
   "outputs": [],
   "source": [
    "def predictRidgeRegML(df, target, remove, num):\n",
    "    rmse = []\n",
    "    for i in range(num):\n",
    "        randomCitys = random.sample(range(0, 10), remove)\n",
    "        newDF = df[~df['City_ID'].isin(randomCitys)]\n",
    "        X_train, X_test, y_train, y_test = splitDF(newDF, target, .3)\n",
    "        ridge_regressor = Ridge(random_state=seed).fit(X_train, y_train)\n",
    "        rmse.append(getRMSE(ridge_regressor, X_test, y_test))\n",
    "    return ridge_regressor, rmse"
   ]
  },
  {
   "cell_type": "code",
   "execution_count": 30,
   "id": "7bbad1c7",
   "metadata": {},
   "outputs": [],
   "source": [
    "def predictXGBRegML(df, target, remove, num):\n",
    "    rmse = []\n",
    "    for i in range(num):\n",
    "        randomCitys = random.sample(range(0, 10), remove)\n",
    "        newDF = df[~df['City_ID'].isin(randomCitys)]\n",
    "        X_train, X_test, y_train, y_test = splitDF(newDF, target, .3)\n",
    "        xgb_regressor = XGBRegressor(random_state=seed).fit(X_train, y_train)\n",
    "        rmse.append(getRMSE(xgb_regressor, X_test, y_test))\n",
    "    return xgb_regressor, rmse"
   ]
  },
  {
   "cell_type": "code",
   "execution_count": 31,
   "id": "7d67df38",
   "metadata": {},
   "outputs": [],
   "source": [
    "def predictRFRegML(df, target, remove, num):\n",
    "    rmse = []\n",
    "    for i in range(num):\n",
    "        randomCitys = random.sample(range(0, 10), remove)\n",
    "        newDF = df[~df['City_ID'].isin(randomCitys)]\n",
    "        X_train, X_test, y_train, y_test = splitDF(newDF, target, .3)\n",
    "        rf_regressor = RandomForestRegressor(random_state=seed, n_jobs=-1).fit(X_train, y_train)\n",
    "        rmse.append(getRMSE(rf_regressor, X_test, y_test))\n",
    "    return rf_regressor, rmse"
   ]
  },
  {
   "cell_type": "code",
   "execution_count": 32,
   "id": "65625f65",
   "metadata": {},
   "outputs": [],
   "source": [
    "def modelEval(modelType, data, num_iterations, degree, **kwargs):\n",
    "    model_rmse = []\n",
    "    best_rmse = 10000\n",
    "    best_model = None\n",
    "\n",
    "    for remove in range(9, -1, -1):\n",
    "        print(f\"{11-remove} Cities used for prediction\")\n",
    "        if degree == None:\n",
    "            model, rmse_data = modelType(data, \"temperature_2m (°F)\", remove, num_iterations)\n",
    "        else:\n",
    "            model, rmse_data = predictPolyRegML(data, \"temperature_2m (°F)\", remove, num_iterations, degree)\n",
    "        rmse = np.mean(rmse_data)\n",
    "        if(rmse < best_rmse):\n",
    "            best_rmse = rmse\n",
    "            best_model = model\n",
    "        model_rmse.append(round(rmse, 6))\n",
    "        print(f\"Avg. RMSE: \", round(rmse, 6))\n",
    "        print(\"\")\n",
    "    return model_rmse, best_model"
   ]
  },
  {
   "cell_type": "markdown",
   "id": "b8022c0b",
   "metadata": {},
   "source": [
    "Below we drop a city from the training data. Then we build our models using the remaining cities. Lastly we will attempt\n",
    "to predict the dropped cities tempuratures based on the model trained to predict the other cities."
   ]
  },
  {
   "cell_type": "code",
   "execution_count": 33,
   "id": "385be5c1",
   "metadata": {},
   "outputs": [],
   "source": [
    "def dropCity(df, num):\n",
    "    num = str(num)\n",
    "    mask = df[\"City_ID\"].apply(lambda x: num in str(x))\n",
    "    oldDF = df[~mask]\n",
    "    newDF = df[mask]\n",
    "    return oldDF, newDF"
   ]
  },
  {
   "cell_type": "code",
   "execution_count": 34,
   "id": "f8af81d5",
   "metadata": {},
   "outputs": [],
   "source": [
    "# 8 = San Jose on the City_ID\n",
    "\n",
    "RemainingForecastData, soleCityForecastDF = dropCity(processedForecast, 8)\n",
    "RemainingArchiveData, soleCityArchiveDF = dropCity(processedArchive, 8)"
   ]
  },
  {
   "cell_type": "code",
   "execution_count": 35,
   "id": "2796bf16",
   "metadata": {},
   "outputs": [
    {
     "data": {
      "text/html": [
       "<div>\n",
       "<style scoped>\n",
       "    .dataframe tbody tr th:only-of-type {\n",
       "        vertical-align: middle;\n",
       "    }\n",
       "\n",
       "    .dataframe tbody tr th {\n",
       "        vertical-align: top;\n",
       "    }\n",
       "\n",
       "    .dataframe thead th {\n",
       "        text-align: right;\n",
       "    }\n",
       "</style>\n",
       "<table border=\"1\" class=\"dataframe\">\n",
       "  <thead>\n",
       "    <tr style=\"text-align: right;\">\n",
       "      <th></th>\n",
       "      <th>time</th>\n",
       "      <th>temperature_2m (°F)</th>\n",
       "      <th>relativehumidity_2m (%)</th>\n",
       "      <th>precipitation (inch)</th>\n",
       "      <th>rain (inch)</th>\n",
       "      <th>cloudcover (%)</th>\n",
       "      <th>windspeed_10m (mp/h)</th>\n",
       "      <th>winddirection_10m (°)</th>\n",
       "      <th>City_ID</th>\n",
       "    </tr>\n",
       "  </thead>\n",
       "  <tbody>\n",
       "    <tr>\n",
       "      <th>19</th>\n",
       "      <td>1681977600</td>\n",
       "      <td>48.4</td>\n",
       "      <td>71</td>\n",
       "      <td>0.000</td>\n",
       "      <td>0.000</td>\n",
       "      <td>0</td>\n",
       "      <td>2.4</td>\n",
       "      <td>229.0</td>\n",
       "      <td>8</td>\n",
       "    </tr>\n",
       "    <tr>\n",
       "      <th>23</th>\n",
       "      <td>1681981200</td>\n",
       "      <td>47.0</td>\n",
       "      <td>70</td>\n",
       "      <td>0.000</td>\n",
       "      <td>0.000</td>\n",
       "      <td>0</td>\n",
       "      <td>1.9</td>\n",
       "      <td>111.0</td>\n",
       "      <td>8</td>\n",
       "    </tr>\n",
       "    <tr>\n",
       "      <th>32</th>\n",
       "      <td>1681984800</td>\n",
       "      <td>46.0</td>\n",
       "      <td>70</td>\n",
       "      <td>0.000</td>\n",
       "      <td>0.000</td>\n",
       "      <td>0</td>\n",
       "      <td>0.6</td>\n",
       "      <td>45.0</td>\n",
       "      <td>8</td>\n",
       "    </tr>\n",
       "    <tr>\n",
       "      <th>43</th>\n",
       "      <td>1681988400</td>\n",
       "      <td>45.5</td>\n",
       "      <td>66</td>\n",
       "      <td>0.000</td>\n",
       "      <td>0.000</td>\n",
       "      <td>0</td>\n",
       "      <td>2.5</td>\n",
       "      <td>153.0</td>\n",
       "      <td>8</td>\n",
       "    </tr>\n",
       "    <tr>\n",
       "      <th>53</th>\n",
       "      <td>1681992000</td>\n",
       "      <td>44.7</td>\n",
       "      <td>66</td>\n",
       "      <td>0.000</td>\n",
       "      <td>0.000</td>\n",
       "      <td>0</td>\n",
       "      <td>2.2</td>\n",
       "      <td>180.0</td>\n",
       "      <td>8</td>\n",
       "    </tr>\n",
       "  </tbody>\n",
       "</table>\n",
       "</div>"
      ],
      "text/plain": [
       "          time temperature_2m (°F) relativehumidity_2m (%)  \\\n",
       "19  1681977600                48.4                      71   \n",
       "23  1681981200                47.0                      70   \n",
       "32  1681984800                46.0                      70   \n",
       "43  1681988400                45.5                      66   \n",
       "53  1681992000                44.7                      66   \n",
       "\n",
       "   precipitation (inch) rain (inch) cloudcover (%)  windspeed_10m (mp/h)  \\\n",
       "19                0.000       0.000              0                   2.4   \n",
       "23                0.000       0.000              0                   1.9   \n",
       "32                0.000       0.000              0                   0.6   \n",
       "43                0.000       0.000              0                   2.5   \n",
       "53                0.000       0.000              0                   2.2   \n",
       "\n",
       "    winddirection_10m (°)  City_ID  \n",
       "19                  229.0        8  \n",
       "23                  111.0        8  \n",
       "32                   45.0        8  \n",
       "43                  153.0        8  \n",
       "53                  180.0        8  "
      ]
     },
     "execution_count": 35,
     "metadata": {},
     "output_type": "execute_result"
    },
    {
     "data": {
      "text/html": [
       "<div>\n",
       "<style scoped>\n",
       "    .dataframe tbody tr th:only-of-type {\n",
       "        vertical-align: middle;\n",
       "    }\n",
       "\n",
       "    .dataframe tbody tr th {\n",
       "        vertical-align: top;\n",
       "    }\n",
       "\n",
       "    .dataframe thead th {\n",
       "        text-align: right;\n",
       "    }\n",
       "</style>\n",
       "<table border=\"1\" class=\"dataframe\">\n",
       "  <thead>\n",
       "    <tr style=\"text-align: right;\">\n",
       "      <th></th>\n",
       "      <th>time</th>\n",
       "      <th>temperature_2m (°F)</th>\n",
       "      <th>relativehumidity_2m (%)</th>\n",
       "      <th>precipitation (inch)</th>\n",
       "      <th>rain (inch)</th>\n",
       "      <th>cloudcover (%)</th>\n",
       "      <th>windspeed_10m (mp/h)</th>\n",
       "      <th>winddirection_10m (°)</th>\n",
       "      <th>City_ID</th>\n",
       "    </tr>\n",
       "  </thead>\n",
       "  <tbody>\n",
       "    <tr>\n",
       "      <th>18</th>\n",
       "      <td>1451635200</td>\n",
       "      <td>39.1</td>\n",
       "      <td>87</td>\n",
       "      <td>0.000</td>\n",
       "      <td>0.000</td>\n",
       "      <td>5</td>\n",
       "      <td>7.0</td>\n",
       "      <td>42</td>\n",
       "      <td>8</td>\n",
       "    </tr>\n",
       "    <tr>\n",
       "      <th>21</th>\n",
       "      <td>1451638800</td>\n",
       "      <td>38.1</td>\n",
       "      <td>87</td>\n",
       "      <td>0.000</td>\n",
       "      <td>0.000</td>\n",
       "      <td>2</td>\n",
       "      <td>7.0</td>\n",
       "      <td>40</td>\n",
       "      <td>8</td>\n",
       "    </tr>\n",
       "    <tr>\n",
       "      <th>36</th>\n",
       "      <td>1451642400</td>\n",
       "      <td>37.3</td>\n",
       "      <td>87</td>\n",
       "      <td>0.000</td>\n",
       "      <td>0.000</td>\n",
       "      <td>10</td>\n",
       "      <td>6.0</td>\n",
       "      <td>48</td>\n",
       "      <td>8</td>\n",
       "    </tr>\n",
       "    <tr>\n",
       "      <th>47</th>\n",
       "      <td>1451646000</td>\n",
       "      <td>35.8</td>\n",
       "      <td>88</td>\n",
       "      <td>0.000</td>\n",
       "      <td>0.000</td>\n",
       "      <td>12</td>\n",
       "      <td>6.3</td>\n",
       "      <td>42</td>\n",
       "      <td>8</td>\n",
       "    </tr>\n",
       "    <tr>\n",
       "      <th>59</th>\n",
       "      <td>1451649600</td>\n",
       "      <td>34.4</td>\n",
       "      <td>88</td>\n",
       "      <td>0.000</td>\n",
       "      <td>0.000</td>\n",
       "      <td>11</td>\n",
       "      <td>6.5</td>\n",
       "      <td>44</td>\n",
       "      <td>8</td>\n",
       "    </tr>\n",
       "  </tbody>\n",
       "</table>\n",
       "</div>"
      ],
      "text/plain": [
       "          time temperature_2m (°F) relativehumidity_2m (%)  \\\n",
       "18  1451635200                39.1                      87   \n",
       "21  1451638800                38.1                      87   \n",
       "36  1451642400                37.3                      87   \n",
       "47  1451646000                35.8                      88   \n",
       "59  1451649600                34.4                      88   \n",
       "\n",
       "   precipitation (inch) rain (inch) cloudcover (%) windspeed_10m (mp/h)  \\\n",
       "18                0.000       0.000              5                  7.0   \n",
       "21                0.000       0.000              2                  7.0   \n",
       "36                0.000       0.000             10                  6.0   \n",
       "47                0.000       0.000             12                  6.3   \n",
       "59                0.000       0.000             11                  6.5   \n",
       "\n",
       "   winddirection_10m (°)  City_ID  \n",
       "18                    42        8  \n",
       "21                    40        8  \n",
       "36                    48        8  \n",
       "47                    42        8  \n",
       "59                    44        8  "
      ]
     },
     "execution_count": 35,
     "metadata": {},
     "output_type": "execute_result"
    },
    {
     "data": {
      "text/html": [
       "<div>\n",
       "<style scoped>\n",
       "    .dataframe tbody tr th:only-of-type {\n",
       "        vertical-align: middle;\n",
       "    }\n",
       "\n",
       "    .dataframe tbody tr th {\n",
       "        vertical-align: top;\n",
       "    }\n",
       "\n",
       "    .dataframe thead th {\n",
       "        text-align: right;\n",
       "    }\n",
       "</style>\n",
       "<table border=\"1\" class=\"dataframe\">\n",
       "  <thead>\n",
       "    <tr style=\"text-align: right;\">\n",
       "      <th></th>\n",
       "      <th>time</th>\n",
       "      <th>temperature_2m (°F)</th>\n",
       "      <th>relativehumidity_2m (%)</th>\n",
       "      <th>precipitation (inch)</th>\n",
       "      <th>rain (inch)</th>\n",
       "      <th>cloudcover (%)</th>\n",
       "      <th>windspeed_10m (mp/h)</th>\n",
       "      <th>winddirection_10m (°)</th>\n",
       "      <th>City_ID</th>\n",
       "    </tr>\n",
       "  </thead>\n",
       "  <tbody>\n",
       "    <tr>\n",
       "      <th>10</th>\n",
       "      <td>1681977600</td>\n",
       "      <td>46.5</td>\n",
       "      <td>72</td>\n",
       "      <td>0.000</td>\n",
       "      <td>0.000</td>\n",
       "      <td>0</td>\n",
       "      <td>3.6</td>\n",
       "      <td>277.0</td>\n",
       "      <td>7</td>\n",
       "    </tr>\n",
       "    <tr>\n",
       "      <th>11</th>\n",
       "      <td>1681977600</td>\n",
       "      <td>46.6</td>\n",
       "      <td>73</td>\n",
       "      <td>0.000</td>\n",
       "      <td>0.000</td>\n",
       "      <td>0</td>\n",
       "      <td>1.7</td>\n",
       "      <td>23.0</td>\n",
       "      <td>4</td>\n",
       "    </tr>\n",
       "    <tr>\n",
       "      <th>12</th>\n",
       "      <td>1681977600</td>\n",
       "      <td>46.8</td>\n",
       "      <td>63</td>\n",
       "      <td>0.000</td>\n",
       "      <td>0.000</td>\n",
       "      <td>0</td>\n",
       "      <td>1.8</td>\n",
       "      <td>256.0</td>\n",
       "      <td>6</td>\n",
       "    </tr>\n",
       "    <tr>\n",
       "      <th>13</th>\n",
       "      <td>1681977600</td>\n",
       "      <td>44.2</td>\n",
       "      <td>75</td>\n",
       "      <td>0.000</td>\n",
       "      <td>0.000</td>\n",
       "      <td>0</td>\n",
       "      <td>0.7</td>\n",
       "      <td>270.0</td>\n",
       "      <td>0</td>\n",
       "    </tr>\n",
       "    <tr>\n",
       "      <th>14</th>\n",
       "      <td>1681977600</td>\n",
       "      <td>46.7</td>\n",
       "      <td>77</td>\n",
       "      <td>0.000</td>\n",
       "      <td>0.000</td>\n",
       "      <td>2</td>\n",
       "      <td>4.9</td>\n",
       "      <td>120.0</td>\n",
       "      <td>2</td>\n",
       "    </tr>\n",
       "  </tbody>\n",
       "</table>\n",
       "</div>"
      ],
      "text/plain": [
       "          time temperature_2m (°F) relativehumidity_2m (%)  \\\n",
       "10  1681977600                46.5                      72   \n",
       "11  1681977600                46.6                      73   \n",
       "12  1681977600                46.8                      63   \n",
       "13  1681977600                44.2                      75   \n",
       "14  1681977600                46.7                      77   \n",
       "\n",
       "   precipitation (inch) rain (inch) cloudcover (%)  windspeed_10m (mp/h)  \\\n",
       "10                0.000       0.000              0                   3.6   \n",
       "11                0.000       0.000              0                   1.7   \n",
       "12                0.000       0.000              0                   1.8   \n",
       "13                0.000       0.000              0                   0.7   \n",
       "14                0.000       0.000              2                   4.9   \n",
       "\n",
       "    winddirection_10m (°)  City_ID  \n",
       "10                  277.0        7  \n",
       "11                   23.0        4  \n",
       "12                  256.0        6  \n",
       "13                  270.0        0  \n",
       "14                  120.0        2  "
      ]
     },
     "execution_count": 35,
     "metadata": {},
     "output_type": "execute_result"
    },
    {
     "data": {
      "text/html": [
       "<div>\n",
       "<style scoped>\n",
       "    .dataframe tbody tr th:only-of-type {\n",
       "        vertical-align: middle;\n",
       "    }\n",
       "\n",
       "    .dataframe tbody tr th {\n",
       "        vertical-align: top;\n",
       "    }\n",
       "\n",
       "    .dataframe thead th {\n",
       "        text-align: right;\n",
       "    }\n",
       "</style>\n",
       "<table border=\"1\" class=\"dataframe\">\n",
       "  <thead>\n",
       "    <tr style=\"text-align: right;\">\n",
       "      <th></th>\n",
       "      <th>time</th>\n",
       "      <th>temperature_2m (°F)</th>\n",
       "      <th>relativehumidity_2m (%)</th>\n",
       "      <th>precipitation (inch)</th>\n",
       "      <th>rain (inch)</th>\n",
       "      <th>cloudcover (%)</th>\n",
       "      <th>windspeed_10m (mp/h)</th>\n",
       "      <th>winddirection_10m (°)</th>\n",
       "      <th>City_ID</th>\n",
       "    </tr>\n",
       "  </thead>\n",
       "  <tbody>\n",
       "    <tr>\n",
       "      <th>10</th>\n",
       "      <td>1451635200</td>\n",
       "      <td>40.8</td>\n",
       "      <td>78</td>\n",
       "      <td>0.000</td>\n",
       "      <td>0.000</td>\n",
       "      <td>0</td>\n",
       "      <td>4.6</td>\n",
       "      <td>43</td>\n",
       "      <td>9</td>\n",
       "    </tr>\n",
       "    <tr>\n",
       "      <th>11</th>\n",
       "      <td>1451635200</td>\n",
       "      <td>40.7</td>\n",
       "      <td>90</td>\n",
       "      <td>0.000</td>\n",
       "      <td>0.000</td>\n",
       "      <td>0</td>\n",
       "      <td>4.6</td>\n",
       "      <td>43</td>\n",
       "      <td>5</td>\n",
       "    </tr>\n",
       "    <tr>\n",
       "      <th>12</th>\n",
       "      <td>1451635200</td>\n",
       "      <td>40.5</td>\n",
       "      <td>90</td>\n",
       "      <td>0.000</td>\n",
       "      <td>0.000</td>\n",
       "      <td>0</td>\n",
       "      <td>6.2</td>\n",
       "      <td>41</td>\n",
       "      <td>3</td>\n",
       "    </tr>\n",
       "    <tr>\n",
       "      <th>13</th>\n",
       "      <td>1451635200</td>\n",
       "      <td>42.8</td>\n",
       "      <td>85</td>\n",
       "      <td>0.000</td>\n",
       "      <td>0.000</td>\n",
       "      <td>0</td>\n",
       "      <td>4.6</td>\n",
       "      <td>43</td>\n",
       "      <td>6</td>\n",
       "    </tr>\n",
       "    <tr>\n",
       "      <th>14</th>\n",
       "      <td>1451635200</td>\n",
       "      <td>36.9</td>\n",
       "      <td>76</td>\n",
       "      <td>0.000</td>\n",
       "      <td>0.000</td>\n",
       "      <td>0</td>\n",
       "      <td>6.2</td>\n",
       "      <td>41</td>\n",
       "      <td>4</td>\n",
       "    </tr>\n",
       "  </tbody>\n",
       "</table>\n",
       "</div>"
      ],
      "text/plain": [
       "          time temperature_2m (°F) relativehumidity_2m (%)  \\\n",
       "10  1451635200                40.8                      78   \n",
       "11  1451635200                40.7                      90   \n",
       "12  1451635200                40.5                      90   \n",
       "13  1451635200                42.8                      85   \n",
       "14  1451635200                36.9                      76   \n",
       "\n",
       "   precipitation (inch) rain (inch) cloudcover (%) windspeed_10m (mp/h)  \\\n",
       "10                0.000       0.000              0                  4.6   \n",
       "11                0.000       0.000              0                  4.6   \n",
       "12                0.000       0.000              0                  6.2   \n",
       "13                0.000       0.000              0                  4.6   \n",
       "14                0.000       0.000              0                  6.2   \n",
       "\n",
       "   winddirection_10m (°)  City_ID  \n",
       "10                    43        9  \n",
       "11                    43        5  \n",
       "12                    41        3  \n",
       "13                    43        6  \n",
       "14                    41        4  "
      ]
     },
     "execution_count": 35,
     "metadata": {},
     "output_type": "execute_result"
    }
   ],
   "source": [
    "soleCityForecastDF.head(5)\n",
    "soleCityArchiveDF.head(5)\n",
    "RemainingForecastData.head(5)\n",
    "RemainingArchiveData.head(5)"
   ]
  },
  {
   "cell_type": "code",
   "execution_count": 36,
   "id": "53cfb70b",
   "metadata": {},
   "outputs": [
    {
     "name": "stdout",
     "output_type": "stream",
     "text": [
      "Forecast: \n",
      "2 Cities used for prediction\n",
      "Avg. RMSE:  1.782861\n",
      "\n",
      "3 Cities used for prediction\n",
      "Avg. RMSE:  1.531045\n",
      "\n",
      "4 Cities used for prediction\n",
      "Avg. RMSE:  1.359042\n",
      "\n",
      "5 Cities used for prediction\n",
      "Avg. RMSE:  1.392152\n",
      "\n",
      "6 Cities used for prediction\n",
      "Avg. RMSE:  1.317698\n",
      "\n",
      "7 Cities used for prediction\n",
      "Avg. RMSE:  1.206751\n",
      "\n",
      "8 Cities used for prediction\n",
      "Avg. RMSE:  1.061344\n",
      "\n",
      "9 Cities used for prediction\n",
      "Avg. RMSE:  1.120686\n",
      "\n",
      "10 Cities used for prediction\n",
      "Avg. RMSE:  0.959637\n",
      "\n",
      "11 Cities used for prediction\n",
      "Avg. RMSE:  0.863239\n",
      "\n",
      " \n",
      "Archive: \n",
      "2 Cities used for prediction\n",
      "Avg. RMSE:  3.197498\n",
      "\n",
      "3 Cities used for prediction\n",
      "Avg. RMSE:  2.695797\n",
      "\n",
      "4 Cities used for prediction\n",
      "Avg. RMSE:  2.820416\n",
      "\n",
      "5 Cities used for prediction\n",
      "Avg. RMSE:  2.617183\n",
      "\n",
      "6 Cities used for prediction\n",
      "Avg. RMSE:  2.377673\n",
      "\n",
      "7 Cities used for prediction\n",
      "Avg. RMSE:  2.301074\n",
      "\n",
      "8 Cities used for prediction\n",
      "Avg. RMSE:  2.159172\n",
      "\n",
      "9 Cities used for prediction\n",
      "Avg. RMSE:  2.113645\n",
      "\n",
      "10 Cities used for prediction\n",
      "Avg. RMSE:  1.911375\n",
      "\n",
      "11 Cities used for prediction\n",
      "Avg. RMSE:  1.925128\n",
      "\n"
     ]
    }
   ],
   "source": [
    "# If the programs crashes here, rerun this block until it works, then continue.\n",
    "\n",
    "print(\"Forecast: \")\n",
    "RFSHFore, bestSJForeModel = modelEval(predictRFRegML, RemainingForecastData, 3, degree=None)\n",
    "print(\" \")\n",
    "print(\"Archive: \")\n",
    "RFSJArch, bestSJArchModel = modelEval(predictRFRegML, RemainingArchiveData, 3, degree=None)"
   ]
  },
  {
   "cell_type": "code",
   "execution_count": 37,
   "id": "8956ed94",
   "metadata": {},
   "outputs": [],
   "source": [
    "target_col = \"temperature_2m (°F)\"\n",
    "\n",
    "SForeX_train, SForeX_test, SForey_train, SForey_test = splitDF(RemainingForecastData, target_col, .3)\n",
    "SArchX_train, SArchX_test, SArchy_train, SArchy_test = splitDF(soleCityForecastDF, target_col, .3)\n",
    "trX, teX, trY, teY = splitDF(RemainingArchiveData, target_col, .3)\n",
    "traX, tesX, traY, tesY = splitDF(soleCityArchiveDF, target_col, .3)"
   ]
  },
  {
   "cell_type": "code",
   "execution_count": 38,
   "id": "7aa32add",
   "metadata": {},
   "outputs": [],
   "source": [
    "SForeReg = RandomForestRegressor(n_estimators=100, random_state=seed).fit(SForeX_train, SForey_train)\n",
    "SArchReg = RandomForestRegressor(n_estimators=100, random_state=seed).fit(SArchX_train, SArchy_train)"
   ]
  },
  {
   "cell_type": "code",
   "execution_count": 39,
   "id": "97e9a2d0",
   "metadata": {},
   "outputs": [
    {
     "name": "stdout",
     "output_type": "stream",
     "text": [
      "San Jose Forecast RMSE: 0.8632387313173434\n",
      "San Jose Archive RMSE: 1.923731358358137\n"
     ]
    }
   ],
   "source": [
    "SJForepred = SForeReg.predict(SForeX_test)\n",
    "mse = mean_squared_error(SForey_test, SJForepred)\n",
    "rmse = mse**.5\n",
    "print(f\"San Jose Forecast RMSE: {rmse}\")\n",
    "\n",
    "SJArchpred = SForeReg.predict(SArchX_test)\n",
    "mse = mean_squared_error(SArchy_test, SJArchpred)\n",
    "rmse = mse**.5\n",
    "print(f\"San Jose Archive RMSE: {rmse}\")"
   ]
  },
  {
   "cell_type": "markdown",
   "id": "faea3f7d",
   "metadata": {},
   "source": [
    "## Predict City Temps from Nearby Cities Archived Data\n",
    "\n",
    "Directly below is a preliminary test of feasibility"
   ]
  },
  {
   "cell_type": "code",
   "execution_count": 40,
   "id": "3e0bef3e",
   "metadata": {},
   "outputs": [],
   "source": [
    "def archiveOnForecast(train_df, test_df):\n",
    "    X_train = train_df.drop(\"temperature_2m (°F)\", axis=1)\n",
    "    Y_train = train_df[\"temperature_2m (°F)\"]\n",
    "    X_test = test_df.drop(\"temperature_2m (°F)\", axis=1)\n",
    "    Y_test = test_df[\"temperature_2m (°F)\"]\n",
    "    reg = RandomForestRegressor(n_estimators=100, random_state=seed).fit(X_train, Y_train)\n",
    "    Y_pred = reg.predict(X_test)\n",
    "    mse = mean_squared_error(Y_test, Y_pred)\n",
    "    rmse = mse**.5\n",
    "    return rmse"
   ]
  },
  {
   "cell_type": "code",
   "execution_count": 41,
   "id": "c2961d92",
   "metadata": {},
   "outputs": [
    {
     "name": "stdout",
     "output_type": "stream",
     "text": [
      "Predicting San Jose Forecast from Neighboring City Archive Data: 5.7338975521351285\n"
     ]
    }
   ],
   "source": [
    "pred = archiveOnForecast(RemainingArchiveData, soleCityForecastDF)\n",
    "print(f\"Predicting San Jose Forecast from Neighboring City Archive Data: {pred}\")"
   ]
  },
  {
   "cell_type": "markdown",
   "id": "4c504aa4",
   "metadata": {},
   "source": [
    "Below we test if the removal or inclusion of more cities leads to better prediction scores on RMSE."
   ]
  },
  {
   "cell_type": "code",
   "execution_count": 42,
   "id": "6b5faa3a",
   "metadata": {},
   "outputs": [
    {
     "name": "stdout",
     "output_type": "stream",
     "text": [
      "Forecast: \n",
      "2 Cities used for prediction\n",
      "Avg. RMSE:  2.626844\n",
      "\n",
      "3 Cities used for prediction\n",
      "Avg. RMSE:  2.831933\n",
      "\n",
      "4 Cities used for prediction\n",
      "Avg. RMSE:  3.58545\n",
      "\n",
      "5 Cities used for prediction\n",
      "Avg. RMSE:  2.913009\n",
      "\n",
      "6 Cities used for prediction\n",
      "Avg. RMSE:  2.938503\n",
      "\n",
      "7 Cities used for prediction\n",
      "Avg. RMSE:  2.983219\n",
      "\n",
      "8 Cities used for prediction\n",
      "Avg. RMSE:  2.976406\n",
      "\n",
      "9 Cities used for prediction\n",
      "Avg. RMSE:  2.938641\n",
      "\n",
      "10 Cities used for prediction\n",
      "Avg. RMSE:  3.164137\n",
      "\n",
      "11 Cities used for prediction\n",
      "Avg. RMSE:  2.890123\n",
      "\n",
      " \n",
      "Archive: \n",
      "2 Cities used for prediction\n",
      "Avg. RMSE:  5.952583\n",
      "\n",
      "3 Cities used for prediction\n",
      "Avg. RMSE:  6.302129\n",
      "\n",
      "4 Cities used for prediction\n",
      "Avg. RMSE:  6.351302\n",
      "\n",
      "5 Cities used for prediction\n",
      "Avg. RMSE:  5.938638\n",
      "\n",
      "6 Cities used for prediction\n",
      "Avg. RMSE:  6.173007\n",
      "\n",
      "7 Cities used for prediction\n",
      "Avg. RMSE:  6.142074\n",
      "\n",
      "8 Cities used for prediction\n",
      "Avg. RMSE:  6.224393\n",
      "\n",
      "9 Cities used for prediction\n",
      "Avg. RMSE:  6.153905\n",
      "\n",
      "10 Cities used for prediction\n",
      "Avg. RMSE:  6.123649\n",
      "\n",
      "11 Cities used for prediction\n",
      "Avg. RMSE:  6.177529\n",
      "\n"
     ]
    }
   ],
   "source": [
    "print(\"Forecast: \")\n",
    "PolyForecastRMSE, PolybestForecastModel = modelEval(predictPolyRegML, processedForecast, 3, degree=4)\n",
    "print(\" \")\n",
    "print(\"Archive: \")\n",
    "PolyArchiveRMSE, PolybestArchiveModel = modelEval(predictPolyRegML, processedArchive, 3, degree=4)"
   ]
  },
  {
   "cell_type": "code",
   "execution_count": 43,
   "id": "0326dd3f",
   "metadata": {
    "scrolled": false
   },
   "outputs": [
    {
     "name": "stdout",
     "output_type": "stream",
     "text": [
      "Forecast: \n",
      "2 Cities used for prediction\n",
      "Avg. RMSE:  3.457643\n",
      "\n",
      "3 Cities used for prediction\n",
      "Avg. RMSE:  3.463768\n",
      "\n",
      "4 Cities used for prediction\n",
      "Avg. RMSE:  3.514446\n",
      "\n",
      "5 Cities used for prediction\n",
      "Avg. RMSE:  3.570257\n",
      "\n",
      "6 Cities used for prediction\n",
      "Avg. RMSE:  3.631412\n",
      "\n",
      "7 Cities used for prediction\n",
      "Avg. RMSE:  3.561532\n",
      "\n",
      "8 Cities used for prediction\n",
      "Avg. RMSE:  3.553515\n",
      "\n",
      "9 Cities used for prediction\n",
      "Avg. RMSE:  3.653239\n",
      "\n",
      "10 Cities used for prediction\n",
      "Avg. RMSE:  3.609532\n",
      "\n",
      "11 Cities used for prediction\n",
      "Avg. RMSE:  3.623391\n",
      "\n",
      " \n",
      "Archive: \n",
      "2 Cities used for prediction\n",
      "Avg. RMSE:  6.347392\n",
      "\n",
      "3 Cities used for prediction\n",
      "Avg. RMSE:  6.559174\n",
      "\n",
      "4 Cities used for prediction\n",
      "Avg. RMSE:  6.464795\n",
      "\n",
      "5 Cities used for prediction\n",
      "Avg. RMSE:  6.902859\n",
      "\n",
      "6 Cities used for prediction\n",
      "Avg. RMSE:  6.614728\n",
      "\n",
      "7 Cities used for prediction\n",
      "Avg. RMSE:  6.434196\n",
      "\n",
      "8 Cities used for prediction\n",
      "Avg. RMSE:  6.599993\n",
      "\n",
      "9 Cities used for prediction\n",
      "Avg. RMSE:  6.598951\n",
      "\n",
      "10 Cities used for prediction\n",
      "Avg. RMSE:  6.527348\n",
      "\n",
      "11 Cities used for prediction\n",
      "Avg. RMSE:  6.585489\n",
      "\n"
     ]
    }
   ],
   "source": [
    "print(\"Forecast: \")\n",
    "RidgeForecastRMSE, RidgebestForecastModel = modelEval(predictRidgeRegML, processedForecast, 3, degree=None)\n",
    "print(\" \")\n",
    "print(\"Archive: \")\n",
    "RidgeArchiveRMSE, RidgebestArchiveModel = modelEval(predictRidgeRegML, processedArchive, 3, degree=None)"
   ]
  },
  {
   "cell_type": "code",
   "execution_count": 44,
   "id": "4dde9078",
   "metadata": {},
   "outputs": [
    {
     "name": "stdout",
     "output_type": "stream",
     "text": [
      "Forecast: \n",
      "2 Cities used for prediction\n",
      "Avg. RMSE:  1.679918\n",
      "\n",
      "3 Cities used for prediction\n",
      "Avg. RMSE:  1.732412\n",
      "\n",
      "4 Cities used for prediction\n",
      "Avg. RMSE:  1.336383\n",
      "\n",
      "5 Cities used for prediction\n",
      "Avg. RMSE:  1.275526\n",
      "\n",
      "6 Cities used for prediction\n",
      "Avg. RMSE:  1.282068\n",
      "\n",
      "7 Cities used for prediction\n",
      "Avg. RMSE:  1.081638\n",
      "\n",
      "8 Cities used for prediction\n",
      "Avg. RMSE:  1.132268\n",
      "\n",
      "9 Cities used for prediction\n",
      "Avg. RMSE:  1.100152\n",
      "\n",
      "10 Cities used for prediction\n",
      "Avg. RMSE:  0.933728\n",
      "\n",
      "11 Cities used for prediction\n",
      "Avg. RMSE:  1.048904\n",
      "\n",
      " \n",
      "Archive: \n",
      "2 Cities used for prediction\n",
      "Avg. RMSE:  3.024168\n",
      "\n",
      "3 Cities used for prediction\n",
      "Avg. RMSE:  2.725175\n",
      "\n",
      "4 Cities used for prediction\n",
      "Avg. RMSE:  2.763304\n",
      "\n",
      "5 Cities used for prediction\n",
      "Avg. RMSE:  2.489768\n",
      "\n",
      "6 Cities used for prediction\n",
      "Avg. RMSE:  2.388281\n",
      "\n",
      "7 Cities used for prediction\n",
      "Avg. RMSE:  2.170521\n",
      "\n",
      "8 Cities used for prediction\n",
      "Avg. RMSE:  2.094962\n",
      "\n",
      "9 Cities used for prediction\n",
      "Avg. RMSE:  2.149984\n",
      "\n",
      "10 Cities used for prediction\n",
      "Avg. RMSE:  2.089999\n",
      "\n",
      "11 Cities used for prediction\n",
      "Avg. RMSE:  2.005384\n",
      "\n"
     ]
    }
   ],
   "source": [
    "print(\"Forecast: \")\n",
    "RFForecastRMSE, RFbestForecastModel = modelEval(predictRFRegML, processedForecast, 3, degree=None)\n",
    "print(\" \")\n",
    "print(\"Archive: \")\n",
    "RFArchiveRMSE, RFbestArchiveModel = modelEval(predictRFRegML, processedArchive, 3, degree=None)"
   ]
  },
  {
   "cell_type": "code",
   "execution_count": 45,
   "id": "3b6412c6",
   "metadata": {},
   "outputs": [],
   "source": [
    "def XGCleanUp(df):\n",
    "    for col in df.columns:\n",
    "        if df[col].dtype == 'object':\n",
    "            df[col] = df[col].astype('category')\n",
    "            df[col] = df[col].cat.codes\n",
    "    return df\n",
    "\n",
    "XGprocessedArchive = XGCleanUp(processedArchive)\n",
    "XGprocessedForecast = XGCleanUp(processedForecast)"
   ]
  },
  {
   "cell_type": "code",
   "execution_count": 46,
   "id": "781d1685",
   "metadata": {},
   "outputs": [
    {
     "name": "stdout",
     "output_type": "stream",
     "text": [
      "Forecast: \n",
      "2 Cities used for prediction\n",
      "Avg. RMSE:  15.017301\n",
      "\n",
      "3 Cities used for prediction\n",
      "Avg. RMSE:  12.982244\n",
      "\n",
      "4 Cities used for prediction\n",
      "Avg. RMSE:  10.83699\n",
      "\n",
      "5 Cities used for prediction\n",
      "Avg. RMSE:  9.787098\n",
      "\n",
      "6 Cities used for prediction\n",
      "Avg. RMSE:  9.008367\n",
      "\n",
      "7 Cities used for prediction\n",
      "Avg. RMSE:  8.568128\n",
      "\n",
      "8 Cities used for prediction\n",
      "Avg. RMSE:  8.64114\n",
      "\n",
      "9 Cities used for prediction\n",
      "Avg. RMSE:  8.26889\n",
      "\n",
      "10 Cities used for prediction\n",
      "Avg. RMSE:  7.665864\n",
      "\n",
      "11 Cities used for prediction\n",
      "Avg. RMSE:  7.475932\n",
      "\n",
      " \n",
      "Archive: \n",
      "2 Cities used for prediction\n",
      "Avg. RMSE:  24.919596\n",
      "\n",
      "3 Cities used for prediction\n",
      "Avg. RMSE:  25.221384\n",
      "\n",
      "4 Cities used for prediction\n",
      "Avg. RMSE:  27.8564\n",
      "\n",
      "5 Cities used for prediction\n",
      "Avg. RMSE:  28.470438\n",
      "\n",
      "6 Cities used for prediction\n",
      "Avg. RMSE:  26.043055\n",
      "\n",
      "7 Cities used for prediction\n",
      "Avg. RMSE:  27.434519\n",
      "\n",
      "8 Cities used for prediction\n",
      "Avg. RMSE:  27.95339\n",
      "\n",
      "9 Cities used for prediction\n",
      "Avg. RMSE:  27.32467\n",
      "\n",
      "10 Cities used for prediction\n",
      "Avg. RMSE:  27.294863\n",
      "\n",
      "11 Cities used for prediction\n",
      "Avg. RMSE:  27.25389\n",
      "\n"
     ]
    }
   ],
   "source": [
    "print(\"Forecast: \")\n",
    "XGBForecastRMSE, XGBbestForecastModel = modelEval(predictXGBRegML, XGprocessedForecast, 3, degree=None)\n",
    "print(\" \")\n",
    "print(\"Archive: \")\n",
    "XGBArchiveRMSE, XGBbestArchiveModel = modelEval(predictXGBRegML, XGprocessedArchive, 3, degree=None)"
   ]
  },
  {
   "cell_type": "markdown",
   "id": "4c0cc716",
   "metadata": {},
   "source": [
    "# Plot RMSE Data\n",
    "\n",
    "Notably, we exlude any models, such as XGBoost Regression, when the RMSE scores are poor to improve model viewing."
   ]
  },
  {
   "cell_type": "code",
   "execution_count": 47,
   "id": "3b42c8b2",
   "metadata": {},
   "outputs": [
    {
     "data": {
      "text/plain": [
       "[<matplotlib.lines.Line2D at 0x181203aab00>]"
      ]
     },
     "execution_count": 47,
     "metadata": {},
     "output_type": "execute_result"
    },
    {
     "data": {
      "text/plain": [
       "[<matplotlib.lines.Line2D at 0x181203a98a0>]"
      ]
     },
     "execution_count": 47,
     "metadata": {},
     "output_type": "execute_result"
    },
    {
     "data": {
      "text/plain": [
       "[<matplotlib.lines.Line2D at 0x1812936be20>]"
      ]
     },
     "execution_count": 47,
     "metadata": {},
     "output_type": "execute_result"
    },
    {
     "data": {
      "text/plain": [
       "Text(0.5, 0, 'Number of Cities Used')"
      ]
     },
     "execution_count": 47,
     "metadata": {},
     "output_type": "execute_result"
    },
    {
     "data": {
      "text/plain": [
       "Text(0, 0.5, 'Error Value')"
      ]
     },
     "execution_count": 47,
     "metadata": {},
     "output_type": "execute_result"
    },
    {
     "data": {
      "text/plain": [
       "Text(0.5, 1.0, 'RMSE of Archive Regression Models')"
      ]
     },
     "execution_count": 47,
     "metadata": {},
     "output_type": "execute_result"
    },
    {
     "data": {
      "text/plain": [
       "<matplotlib.legend.Legend at 0x1811e9fb970>"
      ]
     },
     "execution_count": 47,
     "metadata": {},
     "output_type": "execute_result"
    },
    {
     "data": {
      "image/png": "[encoded data removed]",
      "text/plain": [
       "<Figure size 1500x900 with 1 Axes>"
      ]
     },
     "metadata": {},
     "output_type": "display_data"
    }
   ],
   "source": [
    "cityCount = [11 - i for i in range(9, -1, -1)]\n",
    "\n",
    "plt.plot(cityCount, RFArchiveRMSE, label=\"RF RMSE\", marker=\"o\")\n",
    "plt.plot(cityCount, PolyArchiveRMSE, label=\"Poly RMSE\", marker=\"o\")\n",
    "plt.plot(cityCount, RidgeArchiveRMSE, label=\"Ridge RMSE\", marker=\"o\")\n",
    "#plt.plot(cityCount, XGBArchiveRMSE, label=\"XGB RMSE\", marker=\"o\")\n",
    "\n",
    "plt.xlabel(\"Number of Cities Used\")\n",
    "plt.ylabel(\"Error Value\")\n",
    "plt.title(\"RMSE of Archive Regression Models\")\n",
    "\n",
    "plt.legend()\n",
    "plt.grid(True)\n",
    "plt.savefig(\"Images/Archive_Regression_RMSE.png\")\n",
    "plt.show()"
   ]
  },
  {
   "cell_type": "code",
   "execution_count": 48,
   "id": "3fb853f9",
   "metadata": {},
   "outputs": [
    {
     "data": {
      "text/plain": [
       "[<matplotlib.lines.Line2D at 0x181293123e0>]"
      ]
     },
     "execution_count": 48,
     "metadata": {},
     "output_type": "execute_result"
    },
    {
     "data": {
      "text/plain": [
       "[<matplotlib.lines.Line2D at 0x18129310fd0>]"
      ]
     },
     "execution_count": 48,
     "metadata": {},
     "output_type": "execute_result"
    },
    {
     "data": {
      "text/plain": [
       "[<matplotlib.lines.Line2D at 0x18129313d90>]"
      ]
     },
     "execution_count": 48,
     "metadata": {},
     "output_type": "execute_result"
    },
    {
     "data": {
      "text/plain": [
       "Text(0.5, 0, 'Number of Cities Used')"
      ]
     },
     "execution_count": 48,
     "metadata": {},
     "output_type": "execute_result"
    },
    {
     "data": {
      "text/plain": [
       "Text(0, 0.5, 'Error Value')"
      ]
     },
     "execution_count": 48,
     "metadata": {},
     "output_type": "execute_result"
    },
    {
     "data": {
      "text/plain": [
       "Text(0.5, 1.0, 'RMSE of Forecast Regression Models')"
      ]
     },
     "execution_count": 48,
     "metadata": {},
     "output_type": "execute_result"
    },
    {
     "data": {
      "text/plain": [
       "<matplotlib.legend.Legend at 0x18129310d30>"
      ]
     },
     "execution_count": 48,
     "metadata": {},
     "output_type": "execute_result"
    },
    {
     "data": {
      "image/png": "[encoded data removed]",
      "text/plain": [
       "<Figure size 1500x900 with 1 Axes>"
      ]
     },
     "metadata": {},
     "output_type": "display_data"
    }
   ],
   "source": [
    "plt.plot(cityCount, RFForecastRMSE, label=\"RF RMSE\", marker=\"o\")\n",
    "plt.plot(cityCount, PolyForecastRMSE, label=\"Poly RMSE\", marker=\"o\")\n",
    "plt.plot(cityCount, RidgeForecastRMSE, label=\"Ridge RMSE\", marker=\"o\")\n",
    "#plt.plot(cityCount, XGBForecastRMSE, label=\"XGB RMSE\", marker=\"o\")\n",
    "\n",
    "plt.xlabel(\"Number of Cities Used\")\n",
    "plt.ylabel(\"Error Value\")\n",
    "plt.title(\"RMSE of Forecast Regression Models\")\n",
    "\n",
    "plt.legend()\n",
    "plt.grid(True)\n",
    "plt.savefig(\"Images/Forecast_Regression_RMSE.png\")\n",
    "plt.show()"
   ]
  },
  {
   "cell_type": "markdown",
   "id": "0fd073eb",
   "metadata": {},
   "source": [
    "# Now we Test SJ Temperature Predictions from Increased City Counts"
   ]
  },
  {
   "cell_type": "code",
   "execution_count": 49,
   "id": "5836d4e3",
   "metadata": {},
   "outputs": [],
   "source": [
    "def newModel(fullData, singleData, target, degree, model_type, device):\n",
    "    model_rmse = []\n",
    "    best_rmse = 10000\n",
    "    best_model = None\n",
    "    _, X_test, _, y_test = splitDF(singleData, target, .99)  # Large Testing Set\n",
    "    for remove in range(9, 0, -1):\n",
    "        print(f\"{remove} Cities used for Prediction\")\n",
    "        randomCitys = random.sample([i for i in range(10) if i != 8], remove)\n",
    "        newDF = fullData[fullData['City_ID'].isin(randomCitys)]\n",
    "        X_train, _, y_train, _ = splitDF(newDF, target, .05)  # Large Training Set\n",
    "        if model_type == 'polynomial':\n",
    "            poly_transform = PolynomialFeatures(degree=degree)\n",
    "            model = LinearRegression(n_jobs=-1)\n",
    "        elif model_type == 'random_forest':\n",
    "            model = RandomForestRegressor(n_jobs=-1, n_estimators=50, random_state=seed)\n",
    "        elif model_type == 'ridge':\n",
    "            model = Ridge()\n",
    "        elif model_type == 'xgboost':\n",
    "            model = XGBRegressor(n_jobs=-1, tree_method='gpu_hist', gpu_id=0) if device == 'cuda' else XGBRegressor(n_jobs=-1)\n",
    "        model.fit(X_train, y_train)\n",
    "        rmse_data = getRMSE(model, X_test, y_test)\n",
    "        rmse = np.mean(rmse_data)\n",
    "        if (rmse < best_rmse):\n",
    "            best_rmse = rmse\n",
    "            best_model = model\n",
    "        model_rmse.append(round(rmse, 6))\n",
    "        print(f\"Avg. RMSE: \", round(rmse, 6))\n",
    "        print(\"\")\n",
    "    return model_rmse, best_model"
   ]
  },
  {
   "cell_type": "code",
   "execution_count": 50,
   "id": "47181623",
   "metadata": {},
   "outputs": [],
   "source": [
    "processedForecast = preprocessingDF(TotalForecastDF)\n",
    "processedArchive = preprocessingDF(TotalArchiveDF)\n",
    "\n",
    "processedForecast = processedForecast.drop([0], axis=1)\n",
    "processedArchive = processedArchive.drop([0], axis=1)"
   ]
  },
  {
   "cell_type": "code",
   "execution_count": 51,
   "id": "4d4f090a",
   "metadata": {},
   "outputs": [],
   "source": [
    "RemainingForecastData, soleCityForecastDF = dropCity(processedForecast, 8)\n",
    "RemainingArchiveData, soleCityArchiveDF = dropCity(processedArchive, 8)"
   ]
  },
  {
   "cell_type": "markdown",
   "id": "ad6d2152",
   "metadata": {},
   "source": [
    "### Idea of Folowing Repeating Lines:\n",
    "#### Given Archive Data of All Data but the prediction city data, can we predict the prediction city's forecast this week. "
   ]
  },
  {
   "cell_type": "code",
   "execution_count": 52,
   "id": "735619c2",
   "metadata": {},
   "outputs": [
    {
     "name": "stdout",
     "output_type": "stream",
     "text": [
      "SJ Temp. Pred. from Archive: \n",
      "9 Cities used for Prediction\n",
      "Avg. RMSE:  7.802792\n",
      "\n",
      "8 Cities used for Prediction\n",
      "Avg. RMSE:  8.017432\n",
      "\n",
      "7 Cities used for Prediction\n",
      "Avg. RMSE:  7.890021\n",
      "\n",
      "6 Cities used for Prediction\n",
      "Avg. RMSE:  7.529887\n",
      "\n",
      "5 Cities used for Prediction\n",
      "Avg. RMSE:  7.570114\n",
      "\n",
      "4 Cities used for Prediction\n",
      "Avg. RMSE:  7.21592\n",
      "\n",
      "3 Cities used for Prediction\n",
      "Avg. RMSE:  7.953532\n",
      "\n",
      "2 Cities used for Prediction\n",
      "Avg. RMSE:  7.021495\n",
      "\n",
      "1 Cities used for Prediction\n",
      "Avg. RMSE:  8.827056\n",
      "\n",
      " \n"
     ]
    }
   ],
   "source": [
    "print(\"SJ Temp. Pred. from Archive: \")\n",
    "Polyrmse, PolyModel = newModel(RemainingArchiveData, soleCityForecastDF, \"temperature_2m (°F)\", 4, 'polynomial', device)\n",
    "print(\" \")"
   ]
  },
  {
   "cell_type": "code",
   "execution_count": 53,
   "id": "b77dade3",
   "metadata": {
    "scrolled": false
   },
   "outputs": [
    {
     "name": "stdout",
     "output_type": "stream",
     "text": [
      "SJ Temp. Pred. from Archive: \n",
      "9 Cities used for Prediction\n",
      "Avg. RMSE:  7.802885\n",
      "\n",
      "8 Cities used for Prediction\n",
      "Avg. RMSE:  7.716033\n",
      "\n",
      "7 Cities used for Prediction\n",
      "Avg. RMSE:  7.577055\n",
      "\n",
      "6 Cities used for Prediction\n",
      "Avg. RMSE:  7.628172\n",
      "\n",
      "5 Cities used for Prediction\n",
      "Avg. RMSE:  7.650708\n",
      "\n",
      "4 Cities used for Prediction\n",
      "Avg. RMSE:  8.331364\n",
      "\n",
      "3 Cities used for Prediction\n",
      "Avg. RMSE:  7.062545\n",
      "\n",
      "2 Cities used for Prediction\n",
      "Avg. RMSE:  7.051943\n",
      "\n",
      "1 Cities used for Prediction\n",
      "Avg. RMSE:  8.167503\n",
      "\n",
      " \n"
     ]
    }
   ],
   "source": [
    "print(\"SJ Temp. Pred. from Archive: \")\n",
    "Ridgermse, RidgeModel = newModel(RemainingArchiveData, soleCityForecastDF, \"temperature_2m (°F)\", None, 'ridge', device)\n",
    "print(\" \")"
   ]
  },
  {
   "cell_type": "code",
   "execution_count": 54,
   "id": "a7316109",
   "metadata": {},
   "outputs": [
    {
     "name": "stdout",
     "output_type": "stream",
     "text": [
      "SJ Temp. Pred. from Archive: \n",
      "9 Cities used for Prediction\n",
      "Avg. RMSE:  5.77457\n",
      "\n",
      "8 Cities used for Prediction\n",
      "Avg. RMSE:  6.122423\n",
      "\n",
      "7 Cities used for Prediction\n",
      "Avg. RMSE:  6.107219\n",
      "\n",
      "6 Cities used for Prediction\n",
      "Avg. RMSE:  6.025555\n",
      "\n",
      "5 Cities used for Prediction\n",
      "Avg. RMSE:  6.265258\n",
      "\n",
      "4 Cities used for Prediction\n",
      "Avg. RMSE:  5.837744\n",
      "\n",
      "3 Cities used for Prediction\n",
      "Avg. RMSE:  5.505996\n",
      "\n",
      "2 Cities used for Prediction\n",
      "Avg. RMSE:  5.456935\n",
      "\n",
      "1 Cities used for Prediction\n",
      "Avg. RMSE:  6.134516\n",
      "\n",
      " \n"
     ]
    }
   ],
   "source": [
    "print(\"SJ Temp. Pred. from Archive: \")\n",
    "RFrmse, RFmodel = newModel(RemainingArchiveData, soleCityForecastDF, \"temperature_2m (°F)\", None, 'random_forest', device)\n",
    "print(\" \")"
   ]
  },
  {
   "cell_type": "code",
   "execution_count": 55,
   "id": "796ef855",
   "metadata": {
    "scrolled": false
   },
   "outputs": [
    {
     "name": "stdout",
     "output_type": "stream",
     "text": [
      "SJ Temp. Pred. from Archive: \n",
      "9 Cities used for Prediction\n",
      "Avg. RMSE:  318.15945\n",
      "\n",
      "8 Cities used for Prediction\n",
      "Avg. RMSE:  313.3837\n",
      "\n",
      "7 Cities used for Prediction\n",
      "Avg. RMSE:  307.7953\n",
      "\n",
      "6 Cities used for Prediction\n",
      "Avg. RMSE:  306.63342\n",
      "\n",
      "5 Cities used for Prediction\n",
      "Avg. RMSE:  305.26462\n",
      "\n",
      "4 Cities used for Prediction\n",
      "Avg. RMSE:  311.351\n",
      "\n",
      "3 Cities used for Prediction\n",
      "Avg. RMSE:  290.7212\n",
      "\n",
      "2 Cities used for Prediction\n",
      "Avg. RMSE:  267.0866\n",
      "\n",
      "1 Cities used for Prediction\n",
      "Avg. RMSE:  307.21204\n",
      "\n",
      " \n"
     ]
    }
   ],
   "source": [
    "XGprocessedArchive = XGCleanUp(RemainingArchiveData)\n",
    "XGprocessedForecast = XGCleanUp(soleCityForecastDF)\n",
    "\n",
    "print(\"SJ Temp. Pred. from Archive: \")\n",
    "XGBrmse, XGBmodel = newModel(XGprocessedArchive, XGprocessedForecast, \"temperature_2m (°F)\", None, 'xgboost', device)\n",
    "print(\" \")"
   ]
  },
  {
   "cell_type": "code",
   "execution_count": 56,
   "id": "d54c50c4",
   "metadata": {},
   "outputs": [],
   "source": [
    "with open('Models/Polynomial_Regression_Model.pkl', 'wb') as file:\n",
    "    pickle.dump(PolyModel, file)"
   ]
  },
  {
   "cell_type": "code",
   "execution_count": 57,
   "id": "8c2f0c6a",
   "metadata": {},
   "outputs": [],
   "source": [
    "with open('Models/Ridge_Regression_Model.pkl', 'wb') as file:\n",
    "    pickle.dump(RidgeModel, file)"
   ]
  },
  {
   "cell_type": "code",
   "execution_count": 58,
   "id": "7fc9403b",
   "metadata": {},
   "outputs": [],
   "source": [
    "with open('Models/Random_Forrest_Regression_Model.pkl', 'wb') as file:\n",
    "    pickle.dump(RFmodel, file)"
   ]
  },
  {
   "cell_type": "code",
   "execution_count": 59,
   "id": "d1daf570",
   "metadata": {},
   "outputs": [],
   "source": [
    "with open('Models/XGBoost_Regression_Model.pkl', 'wb') as file:\n",
    "    pickle.dump(XGBmodel, file)"
   ]
  },
  {
   "cell_type": "code",
   "execution_count": 60,
   "id": "caf108ec",
   "metadata": {},
   "outputs": [
    {
     "data": {
      "text/plain": [
       "[<matplotlib.lines.Line2D at 0x18128e69780>]"
      ]
     },
     "execution_count": 60,
     "metadata": {},
     "output_type": "execute_result"
    },
    {
     "data": {
      "text/plain": [
       "[<matplotlib.lines.Line2D at 0x18128e699f0>]"
      ]
     },
     "execution_count": 60,
     "metadata": {},
     "output_type": "execute_result"
    },
    {
     "data": {
      "text/plain": [
       "[<matplotlib.lines.Line2D at 0x18128e69c90>]"
      ]
     },
     "execution_count": 60,
     "metadata": {},
     "output_type": "execute_result"
    },
    {
     "data": {
      "text/plain": [
       "Text(0.5, 0, 'Number of Cities Used')"
      ]
     },
     "execution_count": 60,
     "metadata": {},
     "output_type": "execute_result"
    },
    {
     "data": {
      "text/plain": [
       "Text(0, 0.5, 'Error Value')"
      ]
     },
     "execution_count": 60,
     "metadata": {},
     "output_type": "execute_result"
    },
    {
     "data": {
      "text/plain": [
       "Text(0.5, 1.0, 'RMSE of SJ Tempurature given Archive data of Nearby Cities')"
      ]
     },
     "execution_count": 60,
     "metadata": {},
     "output_type": "execute_result"
    },
    {
     "data": {
      "text/plain": [
       "<matplotlib.legend.Legend at 0x18128e69840>"
      ]
     },
     "execution_count": 60,
     "metadata": {},
     "output_type": "execute_result"
    },
    {
     "data": {
      "image/png": "[encoded data removed]",
      "text/plain": [
       "<Figure size 1500x900 with 1 Axes>"
      ]
     },
     "metadata": {},
     "output_type": "display_data"
    }
   ],
   "source": [
    "cityCount = [10 - i for i in range(9, 0, -1)]\n",
    "\n",
    "plt.plot(cityCount, RFrmse, label=\"RF RMSE\", marker=\"o\")\n",
    "plt.plot(cityCount, Polyrmse, label=\"Poly RMSE\", marker=\"o\")\n",
    "plt.plot(cityCount, Ridgermse, label=\"Ridge RMSE\", marker=\"o\")\n",
    "#plt.plot(cityCount, XGBrmse, label=\"XGB RMSE\", marker=\"o\")\n",
    "\n",
    "plt.xlabel(\"Number of Cities Used\")\n",
    "plt.ylabel(\"Error Value\")\n",
    "plt.title(\"RMSE of SJ Tempurature given Archive data of Nearby Cities\")\n",
    "\n",
    "plt.legend()\n",
    "plt.grid(True)\n",
    "plt.savefig(\"Images/Predict_SJ_Temps_From_Archive_Regression.png\")\n",
    "plt.show()"
   ]
  },
  {
   "cell_type": "markdown",
   "id": "ccf2373d",
   "metadata": {},
   "source": [
    "# Attempting DNN approach for prediction\n",
    "\n",
    "However, good results are unlikely due to these being tabular data on a series."
   ]
  },
  {
   "cell_type": "code",
   "execution_count": 61,
   "id": "ef9df92c",
   "metadata": {},
   "outputs": [],
   "source": [
    "class WeatherDataset(Dataset):\n",
    "    def __init__(self, X, y):\n",
    "        self.X = torch.tensor(X, dtype=torch.float32)\n",
    "        self.y = torch.tensor(y, dtype=torch.float32)\n",
    "        \n",
    "    def __len__(self):\n",
    "        return len(self.X)\n",
    "    \n",
    "    def __getitem__(self, idx):\n",
    "        return self.X[idx], self.y[idx]\n",
    "\n",
    "class RMSELoss(nn.Module):\n",
    "    def __init__(self):\n",
    "        super(RMSELoss, self).__init__()\n",
    "        self.mse = nn.MSELoss()\n",
    "        \n",
    "    def forward(self, yhat, y):\n",
    "        y = y.view(-1, 1)  # Reshape the target tensor to match the output tensor shape\n",
    "        return torch.sqrt(self.mse(yhat, y))"
   ]
  },
  {
   "cell_type": "code",
   "execution_count": 62,
   "id": "9d3a90a9",
   "metadata": {},
   "outputs": [],
   "source": [
    "# Universal Approximation Theorem\n",
    "# We Tested Multiple Acitvation Functions and Found SiLU provided the best generalization by far\n",
    "\n",
    "class DeepWeatherPredictor(nn.Module):\n",
    "    def __init__(self, input_size, hidden_size, output_size):\n",
    "        super(DeepWeatherPredictor, self).__init__()\n",
    "        self.fc1 = nn.Linear(input_size, hidden_size)\n",
    "        self.silu1 = nn.SiLU()\n",
    "        self.fc2 = nn.Linear(hidden_size, hidden_size * 2)\n",
    "        self.silu2 = nn.SiLU()\n",
    "        self.fc3 = nn.Linear(hidden_size * 2, hidden_size * 4)\n",
    "        self.silu3 = nn.SiLU()\n",
    "        self.fc4 = nn.Linear(hidden_size * 4, hidden_size*2)\n",
    "        self.silu4 = nn.SiLU()\n",
    "        self.fc5 = nn.Linear(hidden_size * 2, hidden_size)\n",
    "        self.silu5 = nn.SiLU()\n",
    "        self.fc6 = nn.Linear(hidden_size, output)\n",
    "\n",
    "    def forward(self, x):\n",
    "        x = self.silu1(self.fc1(x))\n",
    "        x = self.silu2(self.fc2(x))\n",
    "        x = self.silu3(self.fc3(x))\n",
    "        x = self.silu4(self.fc4(x))\n",
    "        x = self.silu5(self.fc5(x))\n",
    "        x = self.fc6(x)\n",
    "        return x"
   ]
  },
  {
   "cell_type": "code",
   "execution_count": 63,
   "id": "d10607f2",
   "metadata": {},
   "outputs": [],
   "source": [
    "def pData(X_train, X_test):\n",
    "    scaler = StandardScaler().fit(X_train)\n",
    "    X1 = scaler.transform(X_train)\n",
    "    X2 = scaler.transform(X_test)\n",
    "    return X1, X2"
   ]
  },
  {
   "cell_type": "code",
   "execution_count": 64,
   "id": "89dde9eb",
   "metadata": {},
   "outputs": [],
   "source": [
    "DFX_train, DFX_test, DFy_train, DFy_test = splitDF(processedForecast, \"temperature_2m (°F)\", .3)\n",
    "DArchX_train, DArchX_test, DArchy_train, DArchy_test = splitDF(processedArchive, \"temperature_2m (°F)\", .3)"
   ]
  },
  {
   "cell_type": "code",
   "execution_count": 65,
   "id": "76d48c7a",
   "metadata": {},
   "outputs": [],
   "source": [
    "DFX_train, DFX_test = pData(DFX_train, DFX_test)\n",
    "DArchX_train, DArchX_test = pData(DArchX_train, DArchX_test)"
   ]
  },
  {
   "cell_type": "code",
   "execution_count": 66,
   "id": "68aa1948",
   "metadata": {},
   "outputs": [],
   "source": [
    "FDataTrain = WeatherDataset(DFX_train.astype(np.float64), DFy_train.values.astype(np.float64))\n",
    "FDataTest = WeatherDataset(DFX_test.astype(np.float64), DFy_test.values.astype(np.float64))\n",
    "\n",
    "Ftrainer = DataLoader(FDataTrain, batch_size=128, shuffle=True)\n",
    "Ftester = DataLoader(FDataTest, batch_size=128, shuffle=False)"
   ]
  },
  {
   "cell_type": "code",
   "execution_count": 67,
   "id": "909ba6f3",
   "metadata": {},
   "outputs": [],
   "source": [
    "ArchDataTrain = WeatherDataset(DArchX_train.astype(np.float64), DArchy_train.values.astype(np.float64))\n",
    "ArchDataTest = WeatherDataset(DArchX_test.astype(np.float64), DArchy_test.values.astype(np.float64))"
   ]
  },
  {
   "cell_type": "markdown",
   "id": "30e35fd3",
   "metadata": {},
   "source": [
    "# Training Model for DNN Approach"
   ]
  },
  {
   "cell_type": "code",
   "execution_count": 68,
   "id": "4ca9a049",
   "metadata": {},
   "outputs": [],
   "source": [
    "def trainModel(model, optimizer, criterion, trainer, tester, epochs, device):\n",
    "    rmse_history = []\n",
    "    for epoch in range(epochs):\n",
    "        model.train()\n",
    "        for idx, (data, target) in enumerate(trainer):\n",
    "            data, target = data.to(device), target.to(device)\n",
    "            optimizer.zero_grad()\n",
    "            output = model(data)\n",
    "            target = target[:output.shape[0]]\n",
    "            output = output.view(-1, 1)\n",
    "            loss = criterion(output, target)\n",
    "            loss.backward()\n",
    "            optimizer.step()\n",
    "        model.eval()\n",
    "        testLoss = 0\n",
    "        \n",
    "        with torch.no_grad():\n",
    "            for data, target in tester:\n",
    "                data, target = data.to(device), target.to(device)\n",
    "                output = model(data)\n",
    "                output = output.view(-1, 1)\n",
    "                loss = criterion(output, target)\n",
    "                testLoss += loss.item()\n",
    "                \n",
    "        testLoss /= len(tester)\n",
    "        rmse_history.append(testLoss)\n",
    "        print(f\"Epoch: {epoch+1} | RMSE Test Loss: {testLoss:.4f}\")\n",
    "    return rmse_history, model"
   ]
  },
  {
   "cell_type": "markdown",
   "id": "d19a287a",
   "metadata": {},
   "source": [
    "After some initial testing I found these parameters to be ideal to balance complexity and speed, while still maintaining\n",
    "lowest RMSE and convergence. Originally RMSE was approximately 350, but ultimately reduced to the RMSE below"
   ]
  },
  {
   "cell_type": "code",
   "execution_count": 69,
   "id": "886b1330",
   "metadata": {},
   "outputs": [],
   "source": [
    "hidden = 128\n",
    "output = 1"
   ]
  },
  {
   "cell_type": "code",
   "execution_count": 70,
   "id": "28ee87e3",
   "metadata": {},
   "outputs": [],
   "source": [
    "Fmodel = DeepWeatherPredictor(input_size=DFX_train.shape[1], hidden_size=hidden, output_size=output)\n",
    "Fcriterion = RMSELoss()\n",
    "Foptimizer = optim.Adam(Fmodel.parameters(), lr=0.0001)"
   ]
  },
  {
   "cell_type": "code",
   "execution_count": 71,
   "id": "f152e37a",
   "metadata": {},
   "outputs": [
    {
     "name": "stdout",
     "output_type": "stream",
     "text": [
      "Epoch: 1 | RMSE Test Loss: 57.2826\n",
      "Epoch: 2 | RMSE Test Loss: 57.0110\n",
      "Epoch: 3 | RMSE Test Loss: 55.7030\n",
      "Epoch: 4 | RMSE Test Loss: 50.3379\n",
      "Epoch: 5 | RMSE Test Loss: 33.6781\n",
      "Epoch: 6 | RMSE Test Loss: 11.9250\n",
      "Epoch: 7 | RMSE Test Loss: 7.5685\n",
      "Epoch: 8 | RMSE Test Loss: 5.9620\n",
      "Epoch: 9 | RMSE Test Loss: 5.2657\n",
      "Epoch: 10 | RMSE Test Loss: 4.7344\n",
      "Epoch: 11 | RMSE Test Loss: 4.3199\n",
      "Epoch: 12 | RMSE Test Loss: 4.0295\n",
      "Epoch: 13 | RMSE Test Loss: 3.8486\n",
      "Epoch: 14 | RMSE Test Loss: 3.6013\n",
      "Epoch: 15 | RMSE Test Loss: 3.4700\n"
     ]
    }
   ],
   "source": [
    "epochs = 15 # We converge Rapidly on Forecast Data (Small Training Size)\n",
    "FDNNRMSE, Forecast_DNN_Model = trainModel(Fmodel, Foptimizer, Fcriterion, Ftrainer, Ftester, epochs, device)\n",
    "torch.save(Forecast_DNN_Model.state_dict(), 'Models/Forecast_DNN_Model.pt')"
   ]
  },
  {
   "cell_type": "code",
   "execution_count": 72,
   "id": "cda86e86",
   "metadata": {},
   "outputs": [],
   "source": [
    "Archmodel = DeepWeatherPredictor(input_size=DArchX_train.shape[1], hidden_size=hidden, output_size=output)\n",
    "Acriterion = RMSELoss()\n",
    "Aoptimizer = optim.Adam(Archmodel.parameters(), lr=0.0001)"
   ]
  },
  {
   "cell_type": "code",
   "execution_count": 73,
   "id": "9e78b2fb",
   "metadata": {},
   "outputs": [],
   "source": [
    "# Archive Data takes significant time to converge, thus training time has been reduced through randomsplitting so\n",
    "# the new reduced dataset is 5% of the original dataframe size. Given historical data is so large this should not \n",
    "# significantly effect prediction results.\n",
    "\n",
    "num1 = int(0.05 * len(ArchDataTrain))\n",
    "num2 = int(0.05 * len(ArchDataTest))\n",
    "newNum1 = len(ArchDataTrain) - num1\n",
    "newNum2 = len(ArchDataTest) - num2\n",
    "\n",
    "reducedArchDataTrain, _ = random_split(ArchDataTrain, [num1, newNum1])\n",
    "reducedArchDataTest, _ = random_split(ArchDataTest, [num2, newNum2])\n",
    "\n",
    "Archtrainer = DataLoader(reducedArchDataTrain, batch_size=2048, shuffle=True)\n",
    "Archtester = DataLoader(reducedArchDataTest, batch_size=2048, shuffle=False)"
   ]
  },
  {
   "cell_type": "code",
   "execution_count": 74,
   "id": "f792b202",
   "metadata": {},
   "outputs": [
    {
     "name": "stdout",
     "output_type": "stream",
     "text": [
      "Epoch: 1 | RMSE Test Loss: 59.5771\n",
      "Epoch: 2 | RMSE Test Loss: 59.5213\n",
      "Epoch: 3 | RMSE Test Loss: 59.4087\n",
      "Epoch: 4 | RMSE Test Loss: 59.1533\n",
      "Epoch: 5 | RMSE Test Loss: 58.5717\n",
      "Epoch: 6 | RMSE Test Loss: 57.3160\n",
      "Epoch: 7 | RMSE Test Loss: 54.7787\n",
      "Epoch: 8 | RMSE Test Loss: 49.9560\n",
      "Epoch: 9 | RMSE Test Loss: 41.6621\n",
      "Epoch: 10 | RMSE Test Loss: 29.5379\n",
      "Epoch: 11 | RMSE Test Loss: 18.9589\n",
      "Epoch: 12 | RMSE Test Loss: 14.4654\n",
      "Epoch: 13 | RMSE Test Loss: 11.4847\n",
      "Epoch: 14 | RMSE Test Loss: 9.9993\n",
      "Epoch: 15 | RMSE Test Loss: 9.2163\n"
     ]
    }
   ],
   "source": [
    "epochs = 15\n",
    "ADNNRMSE, Archive_DNN_Model = trainModel(Archmodel, Aoptimizer, Acriterion, Archtrainer, Archtester, epochs, device)\n",
    "torch.save(Archive_DNN_Model.state_dict(), 'Models/Archive_DNN_Model.pt')"
   ]
  },
  {
   "cell_type": "code",
   "execution_count": 76,
   "id": "e7b54fde",
   "metadata": {},
   "outputs": [
    {
     "name": "stdout",
     "output_type": "stream",
     "text": [
      "Epoch: 1 | RMSE Test Loss: 5.5087\n",
      "Epoch: 2 | RMSE Test Loss: 4.9494\n",
      "Epoch: 3 | RMSE Test Loss: 4.5694\n",
      "Epoch: 4 | RMSE Test Loss: 4.2637\n",
      "Epoch: 5 | RMSE Test Loss: 4.0251\n",
      "Epoch: 6 | RMSE Test Loss: 3.8235\n",
      "Epoch: 7 | RMSE Test Loss: 3.6710\n",
      "Epoch: 8 | RMSE Test Loss: 3.5114\n",
      "Epoch: 9 | RMSE Test Loss: 3.4055\n",
      "Epoch: 10 | RMSE Test Loss: 3.2944\n",
      "Epoch: 11 | RMSE Test Loss: 3.2158\n",
      "Epoch: 12 | RMSE Test Loss: 3.1450\n",
      "Epoch: 13 | RMSE Test Loss: 3.0931\n",
      "Epoch: 14 | RMSE Test Loss: 3.0398\n",
      "Epoch: 15 | RMSE Test Loss: 2.9999\n"
     ]
    }
   ],
   "source": [
    "# Fine tune Archive Model to predict forecast data\n",
    "epochs = 15\n",
    "AonFDNNRMSE, Forecast_From_Archive_DNN_Model = trainModel(Archmodel, Aoptimizer, Acriterion, Ftrainer, Ftester, epochs, device)\n",
    "torch.save(Forecast_From_Archive_DNN_Model.state_dict(), 'Models/Forecast_From_Archive_DNN_Model.pt')"
   ]
  },
  {
   "cell_type": "code",
   "execution_count": 77,
   "id": "7884748c",
   "metadata": {},
   "outputs": [
    {
     "data": {
      "text/plain": [
       "[<matplotlib.lines.Line2D at 0x181203a83a0>]"
      ]
     },
     "execution_count": 77,
     "metadata": {},
     "output_type": "execute_result"
    },
    {
     "data": {
      "text/plain": [
       "[<matplotlib.lines.Line2D at 0x1811e9fb790>]"
      ]
     },
     "execution_count": 77,
     "metadata": {},
     "output_type": "execute_result"
    },
    {
     "data": {
      "text/plain": [
       "[<matplotlib.lines.Line2D at 0x1811e9fa860>]"
      ]
     },
     "execution_count": 77,
     "metadata": {},
     "output_type": "execute_result"
    },
    {
     "data": {
      "text/plain": [
       "Text(0.5, 0, 'Epochs')"
      ]
     },
     "execution_count": 77,
     "metadata": {},
     "output_type": "execute_result"
    },
    {
     "data": {
      "text/plain": [
       "Text(0, 0.5, 'RMSE')"
      ]
     },
     "execution_count": 77,
     "metadata": {},
     "output_type": "execute_result"
    },
    {
     "data": {
      "text/plain": [
       "Text(0.5, 1.0, 'RMSE of SJ Tempurature given Archive data of Nearby Cities')"
      ]
     },
     "execution_count": 77,
     "metadata": {},
     "output_type": "execute_result"
    },
    {
     "data": {
      "text/plain": [
       "<matplotlib.legend.Legend at 0x18128eaa8f0>"
      ]
     },
     "execution_count": 77,
     "metadata": {},
     "output_type": "execute_result"
    },
    {
     "data": {
      "image/png": "[encoded data removed]",
      "text/plain": [
       "<Figure size 1500x900 with 1 Axes>"
      ]
     },
     "metadata": {},
     "output_type": "display_data"
    }
   ],
   "source": [
    "plt.plot(FDNNRMSE, label=\"Forecast\", marker=\"o\")\n",
    "plt.plot(ADNNRMSE, label=\"Archive\", marker=\"o\")\n",
    "plt.plot(AonFDNNRMSE, label=\"Archive Model Pred. Forecast\", marker=\"o\")\n",
    "\n",
    "plt.xlabel(\"Epochs\")\n",
    "plt.ylabel(\"RMSE\")\n",
    "plt.title(\"RMSE of SJ Tempurature given Archive data of Nearby Cities\")\n",
    "\n",
    "plt.legend()\n",
    "plt.grid(True)\n",
    "plt.savefig(\"Images/Predict_SJ_Temps_From_Archive_DNN.png\")\n",
    "plt.show()"
   ]
  },
  {
   "cell_type": "code",
   "execution_count": 78,
   "id": "fef1e042",
   "metadata": {},
   "outputs": [
    {
     "name": "stdout",
     "output_type": "stream",
     "text": [
      "Elapsed Notebook Time: 18.2831 Minutes\n"
     ]
    }
   ],
   "source": [
    "end_time = time.time()\n",
    "total_time = end_time - start_time\n",
    "total_time = total_time / 60\n",
    "print(f\"Elapsed Notebook Time: {total_time:.4f} Minutes\")"
   ]
  },
  {
   "cell_type": "markdown",
   "id": "c872a27d",
   "metadata": {},
   "source": [
    "# Results\n",
    "\n",
    "Overall, random forrest regression proved to be the best model for predicting weather tempuratures with DNNs falling \n",
    "closely behind. This approach demonstrates the feasibility of using local weather forecasting to predict the weather tempuratures of nearby cities. Utilizing these local models will certainly help researchers and others to predict the forecast accurately when used in tandem with other larger weather forecasting models. However, as a standalone model, these models are very good already. We may consider this as a form of fine tuning our predictions.\n",
    "\n",
    "One important difference from my approach and the approach presented in https://arxiv.org/pdf/2008.10789.pdf is that I do not predict next day weather tempuratures using the current days data. The other is that the data presented in the paper was collected by the researchers own device and, more importantly, likely presented better results due to the physical location of the cities they used. In essence, they collected cities in a star formation around the city they desired to predict which likely gave significantly better results than my data. In my case the data collected has cities in the form of a horizontally stretch oval spanning the length of California's bay area from San Francicso to San Jose. Since I am predicting San Jose's weather the RMSE is likely significantly higher since it is on the edge of the physical data locations. Despite this, others can change the number on line 34 to the desired index of the city ID they want to predict from the list of cities on line 7."
   ]
  }
 ],
 "metadata": {
  "kernelspec": {
   "display_name": "Python 3 (ipykernel)",
   "language": "python",
   "name": "python3"
  },
  "language_info": {
   "codemirror_mode": {
    "name": "ipython",
    "version": 3
   },
   "file_extension": ".py",
   "mimetype": "text/x-python",
   "name": "python",
   "nbconvert_exporter": "python",
   "pygments_lexer": "ipython3",
   "version": "3.10.9"
  }
 },
 "nbformat": 4,
 "nbformat_minor": 5
}
